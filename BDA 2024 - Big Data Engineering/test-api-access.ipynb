{
 "cells": [
  {
   "cell_type": "markdown",
   "id": "24a630b1",
   "metadata": {},
   "source": [
    "## The Cat API"
   ]
  },
  {
   "cell_type": "code",
   "execution_count": null,
   "id": "5fb2345c",
   "metadata": {},
   "outputs": [],
   "source": [
    "# !pip install requests"
   ]
  },
  {
   "cell_type": "code",
   "execution_count": 6,
   "id": "cb657548",
   "metadata": {},
   "outputs": [],
   "source": [
    "catkey = \"foobar\""
   ]
  },
  {
   "cell_type": "code",
   "execution_count": 13,
   "id": "6a7d3f71",
   "metadata": {},
   "outputs": [
    {
     "name": "stdout",
     "output_type": "stream",
     "text": [
      "[{\"breeds\":[],\"id\":\"27l\",\"url\":\"https://cdn2.thecatapi.com/images/27l.jpg\",\"width\":680,\"height\":455}]\n",
      "Random cat image URL: https://cdn2.thecatapi.com/images/27l.jpg\n"
     ]
    }
   ],
   "source": [
    "import requests\n",
    "\n",
    "def get_random_cat_image(api_key):\n",
    "    url = \"https://api.thecatapi.com/v1/images/search\"\n",
    "    headers = {\n",
    "        \"x-api-key\": api_key\n",
    "    }\n",
    "    response = requests.get(url, headers=headers)\n",
    "    if response.status_code == 200:\n",
    "        data = response.json()\n",
    "        # Extract the URL of the cat image from the response\n",
    "        image_url = data[0][\"url\"]\n",
    "        print(response.text)\n",
    "        return image_url\n",
    "    else:\n",
    "        print(\"Failed to fetch cat image:\", response.text)\n",
    "        return None\n",
    "\n",
    "# Replace 'YOUR_API_KEY' with your actual API key from The Cat API\n",
    "api_key = catkey\n",
    "image_url = get_random_cat_image(api_key)\n",
    "if image_url:\n",
    "    print(\"Random cat image URL:\", image_url)\n",
    "else:\n",
    "    print(\"Failed to fetch a random cat image.\")\n"
   ]
  },
  {
   "cell_type": "markdown",
   "id": "fcd6f85f",
   "metadata": {},
   "source": [
    "## Classify that picture"
   ]
  },
  {
   "cell_type": "code",
   "execution_count": null,
   "id": "7f582b46",
   "metadata": {},
   "outputs": [],
   "source": [
    "# !pip install tensorflow keras pillow"
   ]
  },
  {
   "cell_type": "code",
   "execution_count": 4,
   "id": "77bf50b5",
   "metadata": {},
   "outputs": [],
   "source": [
    "import numpy as np\n",
    "from tensorflow.keras.applications.mobilenet_v2 import MobileNetV2, decode_predictions, preprocess_input\n",
    "from tensorflow.keras.preprocessing import image\n",
    "from PIL import Image\n",
    "import requests\n",
    "from io import BytesIO"
   ]
  },
  {
   "cell_type": "code",
   "execution_count": 34,
   "id": "4d5fddd4",
   "metadata": {},
   "outputs": [],
   "source": [
    "def classify(img_url):\n",
    "    # Download the image from the URL\n",
    "    response = requests.get(img_url)\n",
    "    img = Image.open(BytesIO(response.content))\n",
    "\n",
    "    # Convert the image to a numpy array\n",
    "    x = image.img_to_array(img.resize((224, 224)))\n",
    "    x = np.expand_dims(x, axis=0)\n",
    "    x = preprocess_input(x)\n",
    "\n",
    "    # Run the image through the model\n",
    "    preds = model.predict(x)\n",
    "\n",
    "    # Decode the results into a list of tuples (class, description, probability)\n",
    "    return decode_predictions(preds, top=1)[0][0]"
   ]
  },
  {
   "cell_type": "code",
   "execution_count": 35,
   "id": "7eaad1c0",
   "metadata": {},
   "outputs": [
    {
     "name": "stdout",
     "output_type": "stream",
     "text": [
      "\u001b[1m1/1\u001b[0m \u001b[32m━━━━━━━━━━━━━━━━━━━━\u001b[0m\u001b[37m\u001b[0m \u001b[1m0s\u001b[0m 22ms/step\n",
      "It's not a cat!\n"
     ]
    }
   ],
   "source": [
    "# Classify an image\n",
    "result = classify(image_url)\n",
    "\n",
    "# Check if the image is a cat\n",
    "if result[1] == 'tabby' or result[1] == 'tiger_cat':\n",
    "    print(\"It's a cat!\")\n",
    "else:\n",
    "    print(\"It's not a cat!\")"
   ]
  },
  {
   "cell_type": "markdown",
   "id": "e94c1c29",
   "metadata": {},
   "source": [
    "### fix the error"
   ]
  },
  {
   "cell_type": "code",
   "execution_count": 36,
   "id": "c6b4b2fe",
   "metadata": {},
   "outputs": [],
   "source": [
    "# Load the pre-trained model\n",
    "model = MobileNetV2(weights='imagenet')\n",
    "\n",
    "def classify(img_url):\n",
    "    # Download the image from the URL\n",
    "    response = requests.get(img_url)\n",
    "    img = Image.open(BytesIO(response.content))\n",
    "\n",
    "    # Convert the image to a numpy array\n",
    "    x = image.img_to_array(img.resize((224, 224)))\n",
    "    x = np.expand_dims(x, axis=0)\n",
    "    x = preprocess_input(x)\n",
    "\n",
    "    # Run the image through the model\n",
    "    preds = model.predict(x)\n",
    "\n",
    "    # Decode the results into a list of top-5 classes\n",
    "    pred_info = decode_predictions(preds, top=5)[0]\n",
    "    return [i[1] for i in pred_info]"
   ]
  },
  {
   "cell_type": "code",
   "execution_count": 37,
   "id": "38d1e188",
   "metadata": {},
   "outputs": [
    {
     "name": "stdout",
     "output_type": "stream",
     "text": [
      "WARNING:tensorflow:5 out of the last 10 calls to <function TensorFlowTrainer.make_predict_function.<locals>.one_step_on_data_distributed at 0x318fca660> triggered tf.function retracing. Tracing is expensive and the excessive number of tracings could be due to (1) creating @tf.function repeatedly in a loop, (2) passing tensors with different shapes, (3) passing Python objects instead of tensors. For (1), please define your @tf.function outside of the loop. For (2), @tf.function has reduce_retracing=True option that can avoid unnecessary retracing. For (3), please refer to https://www.tensorflow.org/guide/function#controlling_retracing and https://www.tensorflow.org/api_docs/python/tf/function for  more details.\n",
      "\u001b[1m1/1\u001b[0m \u001b[32m━━━━━━━━━━━━━━━━━━━━\u001b[0m\u001b[37m\u001b[0m \u001b[1m0s\u001b[0m 401ms/step\n",
      "It's a cat!\n"
     ]
    }
   ],
   "source": [
    "# Classify an image\n",
    "results = classify(img_url=image_url)\n",
    "\n",
    "# Check if the image is a cat\n",
    "if \"tabby\" in results or any(\"_cat\" in item for item in results):\n",
    "    print(\"It's a cat!\")\n",
    "else:\n",
    "    print(\"It's not a cat!\")"
   ]
  },
  {
   "cell_type": "code",
   "execution_count": null,
   "id": "039079f5",
   "metadata": {},
   "outputs": [],
   "source": []
  }
 ],
 "metadata": {
  "kernelspec": {
   "display_name": "Python 3 (ipykernel)",
   "language": "python",
   "name": "python3"
  },
  "language_info": {
   "codemirror_mode": {
    "name": "ipython",
    "version": 3
   },
   "file_extension": ".py",
   "mimetype": "text/x-python",
   "name": "python",
   "nbconvert_exporter": "python",
   "pygments_lexer": "ipython3",
   "version": "3.11.6"
  }
 },
 "nbformat": 4,
 "nbformat_minor": 5
}
