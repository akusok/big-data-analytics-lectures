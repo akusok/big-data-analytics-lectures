{
 "cells": [
  {
   "cell_type": "markdown",
   "metadata": {
    "slideshow": {
     "slide_type": "slide"
    }
   },
   "source": [
    "<center>\n",
    "<img src=\"./images/00_main_arcada.png\" style=\"width:1400px\">\n",
    "</center>"
   ]
  },
  {
   "cell_type": "markdown",
   "metadata": {
    "slideshow": {
     "slide_type": "slide"
    }
   },
   "source": [
    "## Lecture 2: Introduction to Container\n",
    "\n",
    "\n",
    "## Instructor:\n",
    "Truong An Pham (__An__)<br/> \n",
    "email:  truongan.pham@arcada.fi<br/>"
   ]
  },
  {
   "cell_type": "markdown",
   "metadata": {
    "slideshow": {
     "slide_type": "slide"
    }
   },
   "source": [
    "# Goal for today\n",
    "\n",
    "* Understand container.\n",
    "* Be able to use docker for deploying DNNs with docker.\n"
   ]
  },
  {
   "cell_type": "markdown",
   "metadata": {
    "slideshow": {
     "slide_type": "slide"
    }
   },
   "source": [
    "## Agenda \n",
    "\n",
    "* What is a container?\n",
    "* Containerized application\n",
    "* Container with database\n",
    "* Containerized image\n",
    "* Multi-Container Apps\n",
    "* GPU-based container"
   ]
  },
  {
   "cell_type": "markdown",
   "metadata": {
    "slideshow": {
     "slide_type": "slide"
    }
   },
   "source": [
    "# 1. Container"
   ]
  },
  {
   "cell_type": "markdown",
   "metadata": {
    "slideshow": {
     "slide_type": "subslide"
    }
   },
   "source": [
    "![docker_vm](images/docker_vs_vm_architecture.PNG)\n",
    "\n",
    "* https://www.altexsoft.com/blog/docker-pros-and-cons/ "
   ]
  },
  {
   "cell_type": "markdown",
   "metadata": {
    "slideshow": {
     "slide_type": "slide"
    }
   },
   "source": [
    "## Kubernetes vs. Docker\n",
    "\n",
    "\n",
    "<img style=\"float: center;\" src=\"images/kubernets_docker.png\" width=80%>\n",
    "\n",
    "\n",
    "\n",
    "\n",
    "\n",
    "\n",
    "\n",
    "* https://www.atlassian.com/microservices/microservices-architecture/kubernetes-vs-docker\n",
    "\n",
    "\n",
    "\n",
    "\n",
    "\n",
    "\n",
    "\n",
    "\n",
    "\n"
   ]
  },
  {
   "cell_type": "markdown",
   "metadata": {
    "slideshow": {
     "slide_type": "slide"
    }
   },
   "source": [
    "<img style=\"float: center;\" src=\"images/ku_do_comparison.png\" width=80%>"
   ]
  },
  {
   "cell_type": "markdown",
   "metadata": {
    "slideshow": {
     "slide_type": "slide"
    }
   },
   "source": [
    "# Container orchestration overview\n",
    "\n",
    "![docker_overview](images/docker_overview.PNG)\n",
    "\n",
    "* https://www.spiceworks.com/tech/big-data/articles/what-is-docker/"
   ]
  },
  {
   "cell_type": "markdown",
   "metadata": {
    "slideshow": {
     "slide_type": "slide"
    }
   },
   "source": [
    "# 2. Container application"
   ]
  },
  {
   "cell_type": "markdown",
   "metadata": {
    "slideshow": {
     "slide_type": "subslide"
    }
   },
   "source": [
    "We can play with docker via the following link\n",
    "\n",
    "https://labs.play-with-docker.com/"
   ]
  },
  {
   "cell_type": "markdown",
   "metadata": {
    "slideshow": {
     "slide_type": "subslide"
    }
   },
   "source": [
    "In this lecture, I will ssh to a server and demonstrate the way of working with container"
   ]
  },
  {
   "cell_type": "code",
   "execution_count": null,
   "metadata": {
    "slideshow": {
     "slide_type": "subslide"
    }
   },
   "outputs": [],
   "source": [
    "# this is used for X11 forwarding to the server, then we can show the output of the server in your client machine in GUI.\n",
    "ssh -X [SERVER]"
   ]
  },
  {
   "cell_type": "markdown",
   "metadata": {
    "slideshow": {
     "slide_type": "slide"
    }
   },
   "source": [
    "## Try a containerized pytorch"
   ]
  },
  {
   "cell_type": "code",
   "execution_count": null,
   "metadata": {
    "slideshow": {
     "slide_type": "subslide"
    }
   },
   "outputs": [],
   "source": [
    "docker pull cnstark/pytorch:2.0.1-py3.10.11-ubuntu22.04"
   ]
  },
  {
   "cell_type": "code",
   "execution_count": null,
   "metadata": {},
   "outputs": [],
   "source": [
    "# -it option is used for creating an interative driver for working with docker container\n",
    "# --rm remove the container after exiting\n",
    "docker run -it --rm cnstark/pytorch:2.0.1-py3.10.11-ubuntu22.04"
   ]
  },
  {
   "cell_type": "code",
   "execution_count": null,
   "metadata": {},
   "outputs": [],
   "source": [
    "## Before, need to do apt-get udpate, and then apt-get install vim for installing text editor\n",
    "\n",
    "## Install ultralytics: pip install -U ultralytics\n",
    "## Install some dependencies on docker container: \n",
    "## apt install libgl1-mesa-glx\n",
    "## apt-get install libglib2.0-0\n",
    "import torch\n",
    "\n",
    "# Model\n",
    "model = torch.hub.load('ultralytics/yolov5', 'yolov5s', pretrained=True)\n",
    "\n",
    "# Images\n",
    "imgs = ['https://ultralytics.com/images/zidane.jpg']  # batch of images\n",
    "\n",
    "# Inference\n",
    "results = model(imgs)\n",
    "\n",
    "# Results\n",
    "results.print()\n",
    "results.save()  # or .show()\n",
    "\n",
    "print(results.xyxy[0])  # img1 predictions (tensor), index 1 will print img2 predictions [tlX, tlY, brX, brY, conf, label]\n",
    "results.pandas().xyxy[0] "
   ]
  },
  {
   "cell_type": "markdown",
   "metadata": {},
   "source": [
    "# 3. Container volume and bind mount"
   ]
  },
  {
   "cell_type": "markdown",
   "metadata": {},
   "source": [
    "![docker_volume](images/docker_volume.webp)"
   ]
  },
  {
   "cell_type": "code",
   "execution_count": null,
   "metadata": {
    "slideshow": {
     "slide_type": "slide"
    }
   },
   "outputs": [],
   "source": [
    "docker run -it --rm -v yolotestimages:/workspace/test_images [docker_container_name]"
   ]
  },
  {
   "cell_type": "code",
   "execution_count": null,
   "metadata": {},
   "outputs": [],
   "source": [
    "## few images to test"
   ]
  },
  {
   "cell_type": "markdown",
   "metadata": {
    "slideshow": {
     "slide_type": "slide"
    }
   },
   "source": [
    "# 4. Container image"
   ]
  },
  {
   "cell_type": "code",
   "execution_count": null,
   "metadata": {
    "slideshow": {
     "slide_type": "subslide"
    }
   },
   "outputs": [],
   "source": [
    "ARG BASE_IMAGE\n",
    "\n",
    "FROM ${BASE_IMAGE}\n",
    "\n",
    "ENV NVIDIA_DRIVER_CAPABILITIES ${NVIDIA_DRIVER_CAPABILITIES:-compute,utility}\n",
    "\n",
    "RUN apt update && \\\n",
    "    apt install -y \\\n",
    "        wget build-essential zlib1g-dev libncurses5-dev libgdbm-dev libnss3-dev libssl-dev \\\n",
    "        libreadline-dev libffi-dev libsqlite3-dev libbz2-dev liblzma-dev && \\\n",
    "    apt clean && \\\n",
    "    rm -rf /var/lib/apt/lists/*\n",
    "\n",
    "ARG PYTHON_VERSION\n",
    "\n",
    "RUN cd /tmp && \\\n",
    "    wget https://www.python.org/ftp/python/${PYTHON_VERSION}/Python-${PYTHON_VERSION}.tgz && \\\n",
    "    tar -xvf Python-${PYTHON_VERSION}.tgz && \\\n",
    "    cd Python-${PYTHON_VERSION} && \\\n",
    "    ./configure --enable-optimizations && \\\n",
    "    make && make install && \\\n",
    "    cd .. && rm Python-${PYTHON_VERSION}.tgz && rm -r Python-${PYTHON_VERSION} && \\\n",
    "    ln -s /usr/local/bin/python3 /usr/local/bin/python && \\\n",
    "    ln -s /usr/local/bin/pip3 /usr/local/bin/pip && \\\n",
    "    python -m pip install --upgrade pip && \\\n",
    "    rm -r /root/.cache/pip\n",
    "\n",
    "ARG PYTORCH_VERSION\n",
    "ARG PYTORCH_VERSION_SUFFIX\n",
    "ARG TORCHVISION_VERSION\n",
    "ARG TORCHVISION_VERSION_SUFFIX\n",
    "ARG TORCHAUDIO_VERSION\n",
    "ARG TORCHAUDIO_VERSION_SUFFIX\n",
    "ARG PYTORCH_DOWNLOAD_URL\n",
    "\n",
    "RUN if [ ! $TORCHAUDIO_VERSION ]; \\\n",
    "    then \\\n",
    "        TORCHAUDIO=; \\\n",
    "    else \\\n",
    "        TORCHAUDIO=torchaudio==${TORCHAUDIO_VERSION}${TORCHAUDIO_VERSION_SUFFIX}; \\\n",
    "    fi && \\\n",
    "    if [ ! $PYTORCH_DOWNLOAD_URL ]; \\\n",
    "    then \\\n",
    "        pip install \\\n",
    "            torch==${PYTORCH_VERSION}${PYTORCH_VERSION_SUFFIX} \\\n",
    "            torchvision==${TORCHVISION_VERSION}${TORCHVISION_VERSION_SUFFIX} \\\n",
    "            ${TORCHAUDIO}; \\\n",
    "    else \\\n",
    "        pip install \\\n",
    "            torch==${PYTORCH_VERSION}${PYTORCH_VERSION_SUFFIX} \\\n",
    "            torchvision==${TORCHVISION_VERSION}${TORCHVISION_VERSION_SUFFIX} \\\n",
    "            ${TORCHAUDIO} \\\n",
    "            -f ${PYTORCH_DOWNLOAD_URL}; \\\n",
    "    fi && \\\n",
    "    rm -r /root/.cache/pip\n",
    "\n",
    "WORKDIR /workspace"
   ]
  },
  {
   "cell_type": "markdown",
   "metadata": {
    "slideshow": {
     "slide_type": "slide"
    }
   },
   "source": [
    "## A simpler Dockerfile for crawling images for testing"
   ]
  },
  {
   "cell_type": "code",
   "execution_count": null,
   "metadata": {},
   "outputs": [],
   "source": [
    "FROM ubuntu:20.04\n",
    "RUN apt-get update && apt-get install -y python3.9 python3.9-dev\n",
    "\n",
    "WORKDIR /workspace"
   ]
  },
  {
   "cell_type": "markdown",
   "metadata": {},
   "source": [
    "# 5. Multi-container apps"
   ]
  },
  {
   "cell_type": "code",
   "execution_count": null,
   "metadata": {},
   "outputs": [],
   "source": [
    "## another docker \n",
    "FROM ubuntu:20.04\n",
    "RUN apt-get update && apt-get install -y python3.9 python3.9-dev\n",
    "\n",
    "WORKDIR /workspace1"
   ]
  },
  {
   "cell_type": "code",
   "execution_count": null,
   "metadata": {},
   "outputs": [],
   "source": [
    "## docker compose .yaml file\n",
    "## run with docker compose up\n",
    "version: '3.8'\n",
    "services:\n",
    "  crawler:\n",
    "    build: .\n",
    "    volumes:\n",
    "      - yovol:/workspace1/test_images\n",
    "  yolo_detect:\n",
    "    image: \"yolocontainerdemo\"\n",
    "    volumes:\n",
    "      - yovol:/workspace/test_images\n",
    "volumes:\n",
    "  yovol:"
   ]
  },
  {
   "cell_type": "markdown",
   "metadata": {},
   "source": [
    "# 6. GPU-based container"
   ]
  },
  {
   "cell_type": "markdown",
   "metadata": {},
   "source": [
    "![docker_gpu](images/nvidia-container.png)"
   ]
  },
  {
   "cell_type": "code",
   "execution_count": null,
   "metadata": {},
   "outputs": [],
   "source": [
    "# https://docs.nvidia.com/datacenter/cloud-native/container-toolkit/latest/install-guide.html\n",
    "docker run --rm --runtime=nvidia --gpus all ubuntu nvidia-smi"
   ]
  },
  {
   "cell_type": "markdown",
   "metadata": {},
   "source": [
    "# 7. Hands on exercises"
   ]
  },
  {
   "cell_type": "markdown",
   "metadata": {},
   "source": [
    "Try to create a docker container to run yolov5 pretrained model to detect objects in at least 3 images.\n",
    "Submit images plus, the output location of the prediction. "
   ]
  },
  {
   "cell_type": "markdown",
   "metadata": {},
   "source": [
    "# References:\n",
    "\n",
    "1. http://ip172-18-0-52-cng2vl8l2o9000co9t70-80.direct.labs.play-with-docker.com/tutorial/sharing-our-app/\n",
    "2. https://docs.nvidia.com/deeplearning/frameworks/user-guide/index.html"
   ]
  }
 ],
 "metadata": {
  "celltoolbar": "Slideshow",
  "kernelspec": {
   "display_name": "Python 3 (ipykernel)",
   "language": "python",
   "name": "python3"
  },
  "language_info": {
   "codemirror_mode": {
    "name": "ipython",
    "version": 3
   },
   "file_extension": ".py",
   "mimetype": "text/x-python",
   "name": "python",
   "nbconvert_exporter": "python",
   "pygments_lexer": "ipython3",
   "version": "3.11.6"
  },
  "latex_metadata": {
   "author": "Leonardo Espinosa",
   "title": "MLPP: Supervised Learning"
  },
  "livereveal": {
   "overlay": "<div class='myheader'><h2 class='headertekst'>Machine Learning for Predictive Problems. Big Data Analytics Specialization <img src='./images/00_arcada.png' width='200' height='50'></img></h2><h3 ><a href='#/3/1'>(index)</a></h3></div>",
   "progress": true,
   "scroll": true,
   "theme": "serif",
   "transition": "simple"
  }
 },
 "nbformat": 4,
 "nbformat_minor": 4
}
