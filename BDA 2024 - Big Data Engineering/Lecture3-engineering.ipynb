{
 "cells": [
  {
   "cell_type": "markdown",
   "metadata": {
    "editable": true,
    "slideshow": {
     "slide_type": "slide"
    },
    "tags": []
   },
   "source": [
    "<center>\n",
    "<img src=\"./images/00_main_arcada.png\" style=\"width:1400px\">\n",
    "</center>"
   ]
  },
  {
   "cell_type": "markdown",
   "metadata": {
    "slideshow": {
     "slide_type": "slide"
    }
   },
   "source": [
    "## Lecture 3: Big Data Engineering\n",
    "\n",
    "\n",
    "## Instructor:\n",
    "Anton Akusok <br/> \n",
    "email:  anton.akusok@arcada.fi<br/>\n",
    "messages: \"Anton Akusok\" @ Microsoft Treams"
   ]
  },
  {
   "cell_type": "markdown",
   "metadata": {
    "editable": true,
    "slideshow": {
     "slide_type": "slide"
    },
    "tags": []
   },
   "source": [
    "# Goal for today\n",
    "\n",
    "* Understand challenges of data engineering at large scale.\n",
    "* Learn about automation + version control.\n",
    "* Learn about calling other service using a secret token.\n",
    "* Be able to write simple automation scripts on GitHub.\n"
   ]
  },
  {
   "cell_type": "markdown",
   "metadata": {
    "editable": true,
    "slideshow": {
     "slide_type": "slide"
    },
    "tags": []
   },
   "source": [
    "## Agenda \n",
    "\n",
    "* 0. (intro) What is Big Data Engineering?\n",
    "* 1. GitHub + Copilot for automation\n",
    "* 2. Pull requests for collaborative workflows\n",
    "* 3. *break*\n",
    "* 4. (intro) Roles and responsibilities in engineering team\n",
    "* 5. Communication with other services: API keys and Secrets\n",
    "* 6. Scheduled tasks and Cat-as-a-Service"
   ]
  },
  {
   "cell_type": "markdown",
   "metadata": {
    "editable": true,
    "slideshow": {
     "slide_type": "slide"
    },
    "tags": []
   },
   "source": [
    "# 0. What is Big Data Engineering?"
   ]
  },
  {
   "cell_type": "markdown",
   "metadata": {
    "editable": true,
    "slideshow": {
     "slide_type": "subslide"
    },
    "tags": []
   },
   "source": [
    "## Big Data\n",
    "\n",
    "Big Data is big. Too big for any single person to handle.\n",
    "\n",
    "Big Data Engineering is about iterative development and engineering community. GitHub and automation enable these things.\n",
    "\n",
    "So this lecture we learn automation in GitHub."
   ]
  },
  {
   "cell_type": "markdown",
   "metadata": {
    "editable": true,
    "slideshow": {
     "slide_type": "subslide"
    },
    "tags": []
   },
   "source": [
    "You will notice these themes a lot over the lecture:\n",
    "- working together with other people\n",
    "- communication\n",
    "- collaboration, work arrangement that enables collaboration"
   ]
  },
  {
   "cell_type": "markdown",
   "metadata": {
    "editable": true,
    "slideshow": {
     "slide_type": "subslide"
    },
    "tags": []
   },
   "source": [
    "Engineering is a surprisingly social profession.  \n",
    "\n",
    "Building a large system feels like building an anthill when you are an ant - effective collaboration is its main ingredient.\n",
    "\n",
    "![anthill](images/anthill.jpg)"
   ]
  },
  {
   "cell_type": "markdown",
   "metadata": {
    "editable": true,
    "slideshow": {
     "slide_type": "subslide"
    },
    "tags": []
   },
   "source": [
    "## Automation\n",
    "\n",
    "![lego](images/lego.jpg)"
   ]
  },
  {
   "cell_type": "markdown",
   "metadata": {
    "editable": true,
    "slideshow": {
     "slide_type": "subslide"
    },
    "tags": []
   },
   "source": [
    "\n",
    "Automation is not a complex tool to learn like AirFlow.\n",
    "\n",
    "It is a \"Lego\" with little bricks that you use to build anything.\n",
    "\n",
    "There are many ways to build what you want. They are all good. And the bricks are interchangeable.\n",
    "\n",
    "Today we will learn these bricks."
   ]
  },
  {
   "cell_type": "markdown",
   "metadata": {
    "editable": true,
    "slideshow": {
     "slide_type": "subslide"
    },
    "tags": []
   },
   "source": [
    "### Automation with GitHub Actions\n",
    "\n",
    "Today we will play around GitHub Actions because\n",
    "\n",
    "- GitHub is a great collaboration hub\n",
    "- It is the \"anthill\" you will be building together in a company\n",
    "- You will likely use other tools but they work very similar to GitHub Actions"
   ]
  },
  {
   "cell_type": "markdown",
   "metadata": {
    "editable": true,
    "slideshow": {
     "slide_type": "subslide"
    },
    "tags": []
   },
   "source": [
    "## But I don't know GitHub Actions!"
   ]
  },
  {
   "cell_type": "markdown",
   "metadata": {
    "editable": true,
    "slideshow": {
     "slide_type": "subslide"
    },
    "tags": []
   },
   "source": [
    "![copilot](images/copilot.jpeg)"
   ]
  },
  {
   "cell_type": "markdown",
   "metadata": {
    "editable": true,
    "slideshow": {
     "slide_type": "subslide"
    },
    "tags": []
   },
   "source": [
    "Yes, we will use Copilot. Or any other LLM, does not matter - ideally the one that integrates with your IDE.\n",
    "\n",
    "Writing automation with Copilot is **silly fast**. Ridiculously easy.\n",
    "\n",
    "Like, it feels almost offensive if you learned any programming thing by reading a book before.\n",
    "\n",
    "(You still need to read books and understand what you are doing. But from that point on, it became silly fast starting from 2023 A.D.)"
   ]
  },
  {
   "cell_type": "markdown",
   "metadata": {
    "editable": true,
    "slideshow": {
     "slide_type": "subslide"
    },
    "tags": []
   },
   "source": [
    "Example free IDE: `Cursor.sh` https://cursor.sh/pricing \n",
    "\n",
    "I am not saying it's good. I am saying it has a very good LLM with ChatGPT-4, and the free version works for today's tasks.\n",
    "\n",
    "I *do recommend GPT-4* over any other LLMs right now. They will catch up but it will take a few years.\n",
    "\n",
    "(grab the free one if you don't have an IDE with AI assistant already)\n",
    "\n",
    "![cursor_ide](images/cursor.png)"
   ]
  },
  {
   "cell_type": "markdown",
   "metadata": {
    "editable": true,
    "slideshow": {
     "slide_type": "subslide"
    },
    "tags": []
   },
   "source": [
    "Example I *recommend* to use: Free Student pack from GitHub (Microsoft)\n",
    "\n",
    "https://education.github.com/pack#offers \n",
    "\n",
    "It has Copilot, JetBrains (PyCharm etc.) and many other.\n",
    "\n",
    "*NOT SUITABLE FOR TODAY* because the student status validation takes a few days!\n",
    "\n",
    "![github_student_offers](images/github_offers.png)"
   ]
  },
  {
   "cell_type": "markdown",
   "metadata": {
    "slideshow": {
     "slide_type": "subslide"
    }
   },
   "source": [
    "## Just a chat\n",
    "\n",
    "https://jan.ai\n",
    "\n",
    "![jan-chat](images/jan.png)"
   ]
  },
  {
   "cell_type": "markdown",
   "metadata": {
    "slideshow": {
     "slide_type": "subslide"
    }
   },
   "source": [
    "Beware of memory and system load\n",
    "\n",
    "![jan-gpu](images/jan-gpu.png)"
   ]
  },
  {
   "cell_type": "markdown",
   "metadata": {
    "editable": true,
    "slideshow": {
     "slide_type": "subslide"
    },
    "tags": []
   },
   "source": [
    "## Why Copilot / LLM?\n",
    "\n",
    "(I say Copilot but really mean \"LLM AI coding assistant\" from now on)\n",
    "\n",
    "- Because nobody is a \"Sertified GitHub Actions programmer\"\n",
    "- Because you know **what** you want to do, but don't know **how**\n",
    "- Copilot knows **how** without you spending hours Googling or days reading books\n",
    "- It also debugs errors that is majestic when starting with a new tech\n",
    "- It has a great intergation with VS Code (because Microsoft owns VS Code, GitHub, and basically OpenAI)"
   ]
  },
  {
   "cell_type": "markdown",
   "metadata": {
    "editable": true,
    "slideshow": {
     "slide_type": "subslide"
    },
    "tags": []
   },
   "source": [
    "LLMs are really good at telling you \"how\", but are utter garbage at telling \"what\".\n",
    "\n",
    "**You** have to think. And LLMs won't replace people any time soon. \n",
    "\n",
    "But they save a ton of time learning skills - like you learned to hold a spoon, to ride a bicycle, or to write specific code.\n",
    "\n",
    "Usually a person knows many things \"a little\" and one thing \"deeply\". This is called a \"T-shaped knowledge\". LLMs deepen the arms of \"T\", making you good with stuff you know a little about."
   ]
  },
  {
   "cell_type": "markdown",
   "metadata": {
    "editable": true,
    "slideshow": {
     "slide_type": "subslide"
    },
    "tags": []
   },
   "source": [
    "![llms](images/llms.jpg)"
   ]
  },
  {
   "cell_type": "markdown",
   "metadata": {
    "editable": true,
    "slideshow": {
     "slide_type": "subslide"
    },
    "tags": []
   },
   "source": [
    "## Automation is someone's computer\n",
    "\n",
    "- Automation is code running on someone's computer. Just like you run code on a laptop.\n",
    "\n",
    "- (It probably uses a Docker container - still a computer)\n",
    "\n",
    "- It runs basic bash scripts. Learning very basics of bash scripts is very helpful, you will understand what a script means.\n",
    "\n",
    "https://docs.csc.fi/support/tutorials/env-guide/linux-bash-scripts \n",
    "\n",
    "![bash_scripts_readme](images/bash_csc.png)"
   ]
  },
  {
   "cell_type": "markdown",
   "metadata": {
    "editable": true,
    "slideshow": {
     "slide_type": "subslide"
    },
    "tags": []
   },
   "source": [
    "- For automating something, first literally run it on your laptop in a terminal (Linux and Mac computers have terminal, Windows have a linux terminal in WSL).  \n",
    "\n",
    "- Then put the same code in automation script.\n",
    "\n",
    "- There is no difference, both your laptop and an automation Docker machine are a regular computer connected to the Internet.\n",
    "\n",
    "- Automation needs an \"event\" that starts the run, like you press \"Enter\" to run a command in a terminal.\n",
    "\n",
    "*That's all what is automation - a computer, a script, and an event.*"
   ]
  },
  {
   "cell_type": "markdown",
   "metadata": {
    "editable": true,
    "slideshow": {
     "slide_type": "subslide"
    },
    "tags": []
   },
   "source": [
    "![automation](images/robo_automation.webp)"
   ]
  },
  {
   "cell_type": "markdown",
   "metadata": {
    "editable": true,
    "slideshow": {
     "slide_type": "slide"
    },
    "tags": []
   },
   "source": [
    "# 1. GitHub + Copilot for automation\n",
    "\n",
    "![github_actions](images/github-actions.png)"
   ]
  },
  {
   "cell_type": "markdown",
   "metadata": {
    "editable": true,
    "slideshow": {
     "slide_type": "subslide"
    },
    "tags": []
   },
   "source": [
    "*some slides about GitHub Actions that I literally asked ChatGPT to generat for me because I am too lazy to do it myself...*\n",
    "\n",
    "## GitHub Actions: Automating Your Workflow\n",
    "\n",
    "### What are GitHub Actions?\n",
    "- GitHub Actions is a powerful automation tool provided by GitHub.\n",
    "- It allows you to automate tasks and workflows directly within your GitHub repository.\n",
    "\n",
    "### Key Features\n",
    "- **Automation**: Set up workflows to automatically perform tasks such as testing, building, and deploying your code.\n",
    "- **Event-driven**: Trigger workflows based on various events, such as push, pull request, or issue creation.\n",
    "- **Customizable**: Define your workflows using YAML syntax and customize them to fit your project's needs.\n",
    "- **Integration**: Easily integrate with other tools and services, such as testing frameworks, cloud providers, and deployment platforms.\n",
    "\n",
    "### Why GitHub Actions?\n",
    "- **Streamlines development**: Automating repetitive tasks saves time and effort, allowing you to focus on writing code.\n",
    "- **Ensures consistency**: With automated workflows, you can ensure consistent testing, building, and deployment processes across your projects.\n",
    "- **Facilitates collaboration**: Share and reuse workflows across teams to standardize development practices and improve collaboration.\n"
   ]
  },
  {
   "cell_type": "markdown",
   "metadata": {
    "editable": true,
    "slideshow": {
     "slide_type": "subslide"
    },
    "tags": []
   },
   "source": [
    "## Anatomy of a GitHub Actions Workflow\n",
    "\n",
    "### Workflow File\n",
    "- Workflows are defined in YAML files stored in the `.github/workflows` directory of your repository.\n",
    "- Each workflow file contains one or more jobs, which consist of a sequence of steps to be executed.\n",
    "\n",
    "### Events\n",
    "- Workflows are triggered by events such as push, pull request, or schedule.\n",
    "- You can specify the events that should trigger your workflow in the workflow file.\n",
    "\n",
    "### Jobs and Steps\n",
    "- Jobs represent a unit of work that can run concurrently.\n",
    "- Each job consists of one or more steps, which are individual tasks to be executed.\n",
    "- Steps can include actions, shell commands, or scripts.\n",
    "\n",
    "### Actions\n",
    "- Actions are reusable units of code that perform specific tasks within a workflow.\n",
    "- You can use built-in actions provided by GitHub or create custom actions tailored to your project's needs.\n"
   ]
  },
  {
   "cell_type": "markdown",
   "metadata": {
    "editable": true,
    "slideshow": {
     "slide_type": "subslide"
    },
    "tags": []
   },
   "source": [
    "## Getting Started with GitHub Actions\n",
    "\n",
    "### Creating a Workflow\n",
    "- To create a new workflow, navigate to the `.github/workflows` directory of your repository and click \"New file.\"\n",
    "- Name your workflow file with a `.yml` extension and define your workflow using YAML syntax.\n",
    "\n",
    "### Running Workflows\n",
    "- Workflows are automatically triggered by events specified in the workflow file.\n",
    "- You can also manually trigger workflows or schedule them to run at specific times.\n",
    "\n",
    "### Monitoring Workflows\n",
    "- View the status and logs of your workflows in the \"Actions\" tab of your repository.\n",
    "- Monitor workflow runs, troubleshoot failures, and review logs to ensure your automation is working as expected."
   ]
  },
  {
   "cell_type": "markdown",
   "metadata": {
    "editable": true,
    "slideshow": {
     "slide_type": "subslide"
    },
    "tags": []
   },
   "source": [
    "### Example Workflow\n",
    "```yaml\n",
    "name: CI\n",
    "\n",
    "on:\n",
    "  push:\n",
    "    branches: [main]\n",
    "\n",
    "jobs:\n",
    "  build:\n",
    "    runs-on: ubuntu-latest\n",
    "\n",
    "    steps:\n",
    "    - uses: actions/checkout@v2\n",
    "    - name: Install dependencies\n",
    "      run: npm install\n",
    "    - name: Run tests\n",
    "      run: npm test\n",
    "```"
   ]
  },
  {
   "cell_type": "markdown",
   "metadata": {
    "editable": true,
    "slideshow": {
     "slide_type": "slide"
    },
    "tags": []
   },
   "source": [
    "# Hands-on exercise 1: \"Hello World\" action on push to GitHub\n",
    "\n",
    "Preparation:\n",
    "- Have a GitHub account (seriously)\n",
    "- Have or install an IDE with an LLM code assistant\n",
    "\n",
    "Task: Write a \"hello world\" application using LLM assistant.\n",
    "1. Make a new repo. Or take a repo you don't care about.\n",
    "2. Download / clone it locally\n",
    "3. Open in an IDE\n",
    "4. Create a new branch, then switch to that branch `git checkout -b exercise-1-hello-world`\n",
    "5. Make sure you can use LLM assistant in IDE\n",
    "6. Ask LLM assistant to help you write a \"hello world\" example in GitHub Actions\n",
    "7. Follow the advice, do the coding\n",
    "8. If unclear, clarify the question. Maybe ask where to save the code it suggested.\n",
    "9. Commit and push to GitHub\n",
    "10. Go to GitHub in browser and make a Pull Request"
   ]
  },
  {
   "cell_type": "markdown",
   "metadata": {
    "editable": true,
    "slideshow": {
     "slide_type": "slide"
    },
    "tags": []
   },
   "source": [
    "# 2. Pull Requests (PRs) for collaborative workflows\n",
    "\n",
    "![pull_request](images/pull-request.png)"
   ]
  },
  {
   "cell_type": "markdown",
   "metadata": {
    "editable": true,
    "slideshow": {
     "slide_type": "subslide"
    },
    "tags": []
   },
   "source": [
    "Git is a genius tool. Very easy to learn.\n",
    "\n",
    "Sadly really hard to master. \n",
    "\n",
    "Because you don't see a reason why doing things a certain way until joining a large company.\n",
    "\n",
    "(this is why: https://github.com/elastic/elastic-charts/pull/1475#pullrequestreview-802918615)"
   ]
  },
  {
   "cell_type": "markdown",
   "metadata": {
    "editable": true,
    "slideshow": {
     "slide_type": "subslide"
    },
    "tags": []
   },
   "source": [
    "## Idea of Pull Requests\n",
    "\n",
    "There is one nice and clean version of code, and many proposals for improving the code.\n",
    "\n",
    "All development mess is hidden in these proposals.\n",
    "\n",
    "We can ask feedback from colleagues on our proposals, and give suggestions to their proposals.\n",
    "\n",
    "We want to make sure the nice and clean code works always by:\n",
    "- running tests on the \"future\" version of code before accepting a proposal\n",
    "- looking at the proposed code together\n",
    "- enforcing some coding standards"
   ]
  },
  {
   "cell_type": "markdown",
   "metadata": {
    "editable": true,
    "slideshow": {
     "slide_type": "subslide"
    },
    "tags": []
   },
   "source": [
    "## What should I do?\n",
    "\n",
    "- **ALWAYS WORK IN A BRANCH / PULL REQUEST!**\n",
    "\n",
    "- Make separate PRs for different things\n",
    "\n",
    "- It's OK to have many PRs and switch between them\n",
    "\n",
    "- Try to finish, review, and merge PRs fast!\n",
    "\n",
    "- Write tests that make sure your code works if anyone makes any changes, and the tests pass\n",
    "\n",
    "- Document what you have done: commit messages, docstrings, readme"
   ]
  },
  {
   "cell_type": "markdown",
   "metadata": {
    "editable": true,
    "slideshow": {
     "slide_type": "subslide"
    },
    "tags": []
   },
   "source": [
    "## What should I do?\n",
    "\n",
    "(trying out today)\n",
    "- Setup branch protection rules\n",
    "\n",
    "- Use coding standards enforcement and validation\n",
    "\n",
    "- Run automatic tests\n",
    "\n",
    "- Handle access tokens using Secrets"
   ]
  },
  {
   "cell_type": "markdown",
   "metadata": {
    "editable": true,
    "slideshow": {
     "slide_type": "subslide"
    },
    "tags": []
   },
   "source": [
    "## Development happens in Pull Requests\n",
    "\n",
    "PR has: \n",
    "\n",
    "- **name and description** because you must know what you are going to do before starting to code\n",
    "\n",
    "- history of commits **with meaningful messages explaining the changes**\n",
    "\n",
    "- discussion around new code: questions, answers, comments, whole discussion threads\n",
    "\n",
    "- tests and code standards\n",
    "\n",
    "PRs are **blocked** by default and cannot be merged until all checks have passed. A common check is an approval from another engineer - the \"4-eyes principle\"."
   ]
  },
  {
   "cell_type": "markdown",
   "metadata": {
    "editable": true,
    "slideshow": {
     "slide_type": "subslide"
    },
    "tags": []
   },
   "source": [
    "## Never work in `main` branch\n",
    "\n",
    "Nobody serious ever sends code directly into the \"main\" branch!\n",
    "\n",
    "Some rules can be skipped for your own 1-person repositories, but not this one.\n",
    "\n",
    "PRs help having a *fully working* update before it is merged into the code. Also they help testing out new stuff that may not work, or have several proposals in parallel.\n",
    "\n",
    "Committing directly into `main` branch will leave you with broken code, and a very annoying way back to previous working version. Don't do this to yourself.\n",
    "\n",
    "(also interviewers will check your GitHub and you don't want them see commits to `main`)\n"
   ]
  },
  {
   "cell_type": "markdown",
   "metadata": {
    "editable": true,
    "slideshow": {
     "slide_type": "subslide"
    },
    "tags": []
   },
   "source": [
    "## Working with PRs\n",
    "\n",
    "To be clear - PR is asking to merge a branch. You are working in a \"branch\", but it looks more like you are working in a \"PR\" because all discussion happens in a PR.\n",
    "\n",
    "- create a new branch and make a mess! try things out! don't afraid of breaking something!\n",
    "\n",
    "- clean up and get to a working version\n",
    "\n",
    "- ask for feedback from colleagues, use their suggestions to improve the code further\n",
    "\n",
    "- merge into the main code to get one nice update (use \"squash\" option to hide the mess inside the PR)"
   ]
  },
  {
   "cell_type": "markdown",
   "metadata": {
    "editable": true,
    "slideshow": {
     "slide_type": "slide"
    },
    "tags": []
   },
   "source": [
    "# Hands-on exercise 2: Working in a PR\n",
    "\n",
    "Task: Make another PR that will fail an automated test\n",
    "1. Go to the repo\n",
    "2. Enable main branch protection\n",
    "3. Add requirements of another person's approval\n",
    "4. (optional) Add Codacy for code quality checks\n",
    "5. Create a new branch (from your previous branch). Let's make a lot of branches and PRs!\n",
    "6. Ask LLM assistant to help you write a GitHub Action that always fails\n",
    "7. Add this as another action\n",
    "8. Commit and push to GitHub\n",
    "9. Go to GitHub in browser and make a Pull Request\n",
    "10. Check that you cannot merge new PR because some checks are failing"
   ]
  },
  {
   "cell_type": "markdown",
   "metadata": {
    "editable": true,
    "slideshow": {
     "slide_type": "slide"
    },
    "tags": []
   },
   "source": [
    "# 3. break"
   ]
  },
  {
   "cell_type": "markdown",
   "metadata": {
    "editable": true,
    "slideshow": {
     "slide_type": "slide"
    },
    "tags": []
   },
   "source": [
    "# 4. Roles and tasks of people in an engineering team"
   ]
  },
  {
   "cell_type": "markdown",
   "metadata": {
    "editable": true,
    "slideshow": {
     "slide_type": "subslide"
    },
    "tags": []
   },
   "source": [
    "## Who are all these people?\n",
    "\n",
    "We love coding.\n",
    "\n",
    "These people are here to take up the boring parts, so we could code away.\n",
    "\n",
    "Learn talking to them, and you will be the most happy engineer!"
   ]
  },
  {
   "cell_type": "markdown",
   "metadata": {
    "editable": true,
    "slideshow": {
     "slide_type": "subslide"
    },
    "tags": []
   },
   "source": [
    "## Non-engineer roles in a team\n",
    "\n",
    "The main trio are:\n",
    "\n",
    "- **Engineering Manager** is the team lead, and probably your official boss (if that ever matters)>\n",
    "\n",
    "- **Product Manager** is responsible for the feature experience, he will ask you code more things.\n",
    "\n",
    "- **Principal Engineer** is the Jedi coder that thinks at a large scale and writes techinical docs. Used to be called \"Software Architect\".\n",
    "\n",
    "These people are \"the court\" of development process - Product Manager is the prosecutor who gives you more work, Engineering Manager is an attorney who protects their team, Principal Engineer ensures everybody follow the rules and writes down the final verdict (technical design document). The \"competition\" between PM and EM creates a suitable work plan for us the engineers."
   ]
  },
  {
   "cell_type": "markdown",
   "metadata": {
    "editable": true,
    "slideshow": {
     "slide_type": "subslide"
    },
    "tags": []
   },
   "source": [
    "## Engineering Manager\n",
    "\n",
    "Engineering manager has \"direct reports\" - like you and me.  \n",
    "They are the ones to ask when *you* need something.\n",
    "\n",
    "![engineering_manager](images/em.webp)"
   ]
  },
  {
   "cell_type": "markdown",
   "metadata": {
    "editable": true,
    "slideshow": {
     "slide_type": "subslide"
    },
    "tags": []
   },
   "source": [
    "## Product Manager / Product Owner\n",
    "\n",
    "![product_owner](images/PRODUCT%20OWNER.png)"
   ]
  },
  {
   "cell_type": "markdown",
   "metadata": {
    "editable": true,
    "slideshow": {
     "slide_type": "subslide"
    },
    "tags": []
   },
   "source": [
    "## Principal Engineer\n",
    "\n",
    "They can and will code, but this is a minority of their tasks. They may not code at all. And they don't belong to a specific team anymore.\n",
    "\n",
    "This is an example of an \"Individual Contributor\" role that is a high-level position *without* becoming a manager.\n",
    "\n",
    "- Think at the large scale how systems work (software architecture), how they interact with other systems\n",
    "\n",
    "- Review plans for new systems and large system updates (we have a group of principal engineers informally called \"The Jedi Counsil\")\n",
    "\n",
    "- Write and review TDD (technical design documents) that explain how something works before we even build it\n",
    "\n",
    "- Review code PRs\n",
    "\n",
    "- Mentor other engineers"
   ]
  },
  {
   "cell_type": "markdown",
   "metadata": {
    "editable": true,
    "slideshow": {
     "slide_type": "subslide"
    },
    "tags": []
   },
   "source": [
    "## Non-engineer roles in a team\n",
    "\n",
    "Sometimes you can meet:\n",
    "\n",
    "- **Project Manager** coordinates the timelines between teams, and looks for dependencies. They speak Jira and Excel.\n",
    "\n",
    "- **Technical Program Manager** is a company-scale project manager that knows coding. They may ask you about details.\n",
    "\n",
    "- **Business people** who are curious or enthusiastic. They sound like they live in an own world (they do)."
   ]
  },
  {
   "cell_type": "markdown",
   "metadata": {
    "editable": true,
    "slideshow": {
     "slide_type": "subslide"
    },
    "tags": []
   },
   "source": [
    "## \"Engineers\" come in different flavours\n",
    "\n",
    "https://datatalks.club/blog/data-roles.html \n",
    "\n",
    "![engineers](images/engineers.png)"
   ]
  },
  {
   "cell_type": "markdown",
   "metadata": {
    "editable": true,
    "slideshow": {
     "slide_type": "subslide"
    },
    "tags": []
   },
   "source": [
    "## Why would I care?\n",
    "\n",
    "AI is taking over the world!  \n",
    "(well, at least the skills in the world)\n",
    "\n",
    "Future jobs are more about planning and thinking, while AI will do the implementation.\n",
    "\n",
    "Planning is the ultimate collaboration work:\n",
    "- **your** decision is always worse than **your + asking everyone around** decision\n",
    "- missing information, need to ask around\n",
    "- whatever you plan interacts with systems created by other people\n",
    "- or other people changed something in their system, now yours is broken and you need to figure out"
   ]
  },
  {
   "cell_type": "markdown",
   "metadata": {
    "editable": true,
    "slideshow": {
     "slide_type": "subslide"
    },
    "tags": []
   },
   "source": [
    "## Why would I care?\n",
    "\n",
    "Another fundamental reason - distributed agile organization beats centralized in speed of development.\n",
    "\n",
    "Teams in distributed organization act by themselves, without asking anyone around.\n",
    "\n",
    "Communication is the key to ensuring things continue to work."
   ]
  },
  {
   "cell_type": "markdown",
   "metadata": {
    "editable": true,
    "slideshow": {
     "slide_type": "slide"
    },
    "tags": []
   },
   "source": [
    "# 5. Communication with other services: API keys and Secrets\n",
    "\n",
    "![api-keys](images/api-key.webp)"
   ]
  },
  {
   "cell_type": "markdown",
   "metadata": {
    "editable": true,
    "slideshow": {
     "slide_type": "subslide"
    },
    "tags": []
   },
   "source": [
    "## API Key\n",
    "\n",
    "An API Key is a magic string that enables calling different services. \n",
    "\n",
    "It is basically to a username+password together.\n",
    "\n",
    "A typical and very good practice is to give them lifetime - they will stop working after 30/90/180 days, and need to be re-created.\n",
    "\n",
    "Of course you can automate creating a new API key using the current API key before it expires."
   ]
  },
  {
   "cell_type": "markdown",
   "metadata": {
    "editable": true,
    "slideshow": {
     "slide_type": "subslide"
    },
    "tags": []
   },
   "source": [
    "## Secrets\n",
    "\n",
    "Like passwords, API keys must never go into Git repository!\n",
    "\n",
    "There are special encrypted storages for sensitive things like API keys. They are usually called \"Secrets\".\n",
    "\n",
    "A \"secret\" is a placeholder for a string, that will be replaced only at runtime (when the automation runs).\n",
    "\n",
    "Secret can replace code directly in a script, create a Bash environmental variable, or return a variable in programming language directly."
   ]
  },
  {
   "cell_type": "markdown",
   "metadata": {
    "editable": true,
    "slideshow": {
     "slide_type": "slide"
    },
    "tags": []
   },
   "source": [
    "# Hands-on exercise 3: Secrets in GitHub\n",
    "\n",
    "Task: Save a secret message, print it out in Actions\n",
    "1. Go to GitHub website\n",
    "2. Create a new secret\n",
    "3. Make another branch\n",
    "4. Ask LLM to load the secret in your Actions script\n",
    "5. Print the secret value with the help of LLM - make sure it does not exist in plain text\n",
    "6. Commit and push\n",
    "7. Check the Actions output\n"
   ]
  },
  {
   "cell_type": "markdown",
   "metadata": {
    "editable": true,
    "slideshow": {
     "slide_type": "slide"
    },
    "tags": []
   },
   "source": [
    "# 6. Cat-as-a-Service\n",
    "\n",
    "https://thecatapi.com\n",
    "\n",
    "![cat-api](images/cat-api.png)"
   ]
  },
  {
   "cell_type": "markdown",
   "metadata": {
    "editable": true,
    "slideshow": {
     "slide_type": "subslide"
    },
    "tags": []
   },
   "source": [
    "Get cats with an API call \n",
    "\n",
    "![cats](images/cats2.png)"
   ]
  },
  {
   "cell_type": "markdown",
   "metadata": {
    "editable": true,
    "slideshow": {
     "slide_type": "subslide"
    },
    "tags": []
   },
   "source": [
    "## The Cat API\n",
    "\n",
    "- An actual service you can register and get an API key\n",
    "\n",
    "- Real calls, receive real data\n",
    "\n",
    "- ... but no BS like Google Drive API, and very easy to understand\n",
    "\n",
    "- Same workflow you would use for automation at work"
   ]
  },
  {
   "cell_type": "markdown",
   "metadata": {
    "editable": true,
    "slideshow": {
     "slide_type": "slide"
    },
    "tags": []
   },
   "source": [
    "# Hands-on exercise 4: Cat-as-a-Service\n",
    "\n",
    "Task: Load a cat and validate it is actually a cat image\n",
    "1. Register at the Cats API and get an API key by email\n",
    "2. Save the API key to GitHub Secrets\n",
    "3. Make another branch\n",
    "4. Ask LLM to help you get the cat image with an API call in Python\n",
    "5. Ask LLM to build a very simple computer vision code to check if an image has a cat in it\n",
    "6. Make another Action with the help of LLM. Install necessary libraries in the Actions script.\n",
    "7. Commit and push\n",
    "8. Make sure it works; debug and fix if not\n",
    "9. Now add deployment target: Load and pring in terminal a cat image every minute upon merge to master. \n",
    "10. Ask LLM how to print an image in terminal with text as graphics.\n",
    "11. Pass all validations and merge the PR\n",
    "12. Observe an action actually loading a cat image every minute\n",
    "13. Stop all actions once done"
   ]
  },
  {
   "cell_type": "markdown",
   "metadata": {},
   "source": []
  }
 ],
 "metadata": {
  "celltoolbar": "Slideshow",
  "kernelspec": {
   "display_name": "Python 3 (ipykernel)",
   "language": "python",
   "name": "python3"
  },
  "language_info": {
   "codemirror_mode": {
    "name": "ipython",
    "version": 3
   },
   "file_extension": ".py",
   "mimetype": "text/x-python",
   "name": "python",
   "nbconvert_exporter": "python",
   "pygments_lexer": "ipython3",
   "version": "3.11.6"
  },
  "latex_metadata": {
   "author": "Leonardo Espinosa",
   "title": "MLPP: Supervised Learning"
  },
  "livereveal": {
   "overlay": "<div class='myheader'><h2 class='headertekst'>Machine Learning for Predictive Problems. Big Data Analytics Specialization <img src='./images/00_arcada.png' width='200' height='50'></img></h2><h3 ><a href='#/3/1'>(index)</a></h3></div>",
   "progress": true,
   "scroll": true,
   "theme": "serif",
   "transition": "simple"
  }
 },
 "nbformat": 4,
 "nbformat_minor": 4
}
