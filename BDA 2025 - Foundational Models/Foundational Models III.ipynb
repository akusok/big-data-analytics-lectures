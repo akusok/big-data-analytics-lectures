{
 "cells": [
  {
   "cell_type": "markdown",
   "id": "129d5ede",
   "metadata": {
    "slideshow": {
     "slide_type": "slide"
    }
   },
   "source": [
    "<center>\n",
    "<img src=\"./images/00_main_arcada.png\" style=\"width:1400px\">\n",
    "</center>"
   ]
  },
  {
   "cell_type": "markdown",
   "id": "5fd649db",
   "metadata": {
    "slideshow": {
     "slide_type": "slide"
    }
   },
   "source": [
    "# Foundational Models 3/3\n",
    "\n",
    "## 3D and Robotics\n",
    "\n",
    "#### Presenter:\n",
    "> Anton Akusok (PhD), **Senior Lecturer in IT / Senior Data engineer at Zalando**<br/> \n",
    "(*email*: anton.akusok@arcada.fi)"
   ]
  },
  {
   "cell_type": "markdown",
   "id": "f895bc5f",
   "metadata": {
    "slideshow": {
     "slide_type": "subslide"
    }
   },
   "source": [
    "## Goals\n",
    "\n",
    "* Learn about foundational models for 3D and actions\n",
    "* Understand how these models are created"
   ]
  },
  {
   "cell_type": "markdown",
   "id": "5ab09dce",
   "metadata": {
    "slideshow": {
     "slide_type": "slide"
    }
   },
   "source": [
    "# Basics of 3D Sensing\n",
    "\n",
    "Images are made of pixels, and 3D objects of...\n",
    "\n",
    "<img src=\"./images/f3-3d-sensing.jpg\" alt=\"Original net\" width=\"80%\">"
   ]
  },
  {
   "cell_type": "markdown",
   "id": "2ec7ad58",
   "metadata": {
    "slideshow": {
     "slide_type": "subslide"
    }
   },
   "source": [
    "## 1. Voxels (volumetric pixels)\n",
    "\n",
    "Dense uniform grid in 3D space. \n",
    "\n",
    "* **very** heavy on memory\n",
    "* low-dimensional models e.g. 100 vx in each direction (1,000,000 samples altogether)\n",
    "* cover full space\n",
    "* native format for medical 3D scans, some 3D printing\n",
    "\n",
    "Used for robot action planning that benefits from covering full space"
   ]
  },
  {
   "cell_type": "markdown",
   "id": "a288e8e9",
   "metadata": {
    "slideshow": {
     "slide_type": "subslide"
    }
   },
   "source": [
    "## 2. Point Cloud\n",
    "\n",
    "Collection of points in 3D space. Usually represents object surface.\n",
    "\n",
    "* sparse, very memory efficient\n",
    "* any resolution\n",
    "* represent any geometry\n",
    "* native format for LiDAR scanning or 3D mapping\n",
    "\n",
    "Used for autonomous vehicles, robot navigation, 3D scanning"
   ]
  },
  {
   "cell_type": "markdown",
   "id": "81e2b7e8",
   "metadata": {
    "slideshow": {
     "slide_type": "subslide"
    }
   },
   "source": [
    "## 2.b. Depth Map\n",
    "\n",
    "2D image where pixels are distances from object to camera. Basically a special point cloud where all points are visible from one location.\n",
    "\n",
    "* image representation - easy to store and process by existing methods\n",
    "* can be computed from stereo vision\n",
    "\n",
    "Useful as first data input, and as extra input in AI image processing."
   ]
  },
  {
   "cell_type": "markdown",
   "id": "782dde4a",
   "metadata": {
    "slideshow": {
     "slide_type": "subslide"
    }
   },
   "source": [
    "## 3. Multi-view images\n",
    "\n",
    "Several images of the same scene, usually from a known and fixed camera location.\n",
    "\n",
    "* very easy to capture\n",
    "* easy to store and process\n",
    "* native arrangement for robotics\n",
    "\n",
    "Useful as data input for 3D reconstruction and robotics."
   ]
  },
  {
   "cell_type": "markdown",
   "id": "d602169b",
   "metadata": {
    "slideshow": {
     "slide_type": "subslide"
    }
   },
   "source": [
    "## 4. Mesh\n",
    "\n",
    "Collection of vertices (points), edges (connecting lines) and faces (usually triangles). Typical for 3D computer graphics.\n",
    "\n",
    "* detailed surface details\n",
    "* support textures\n",
    "* extra features for enhanced realism\n",
    "\n",
    "Used in 3D computer graphics, gaming, 3D modeling."
   ]
  },
  {
   "cell_type": "markdown",
   "id": "f86b0f8e",
   "metadata": {
    "slideshow": {
     "slide_type": "subslide"
    }
   },
   "source": [
    "## 5. Implicit Surfaces\n",
    "\n",
    "Mathematical function that gives the distance to nearest surface for every point in 3D space.\n",
    "\n",
    "* smooth and continuous surface representation\n",
    "* very compact\n",
    "* can represent complex shapes\n",
    "\n",
    "Useful for physical simulations, computer graphics."
   ]
  },
  {
   "cell_type": "markdown",
   "id": "ec4cd71a",
   "metadata": {
    "slideshow": {
     "slide_type": "slide"
    }
   },
   "source": [
    "# *Real Virtual Humans*\n",
    "\n",
    "## A successful 3D AI processing research group\n",
    "\n",
    "https://virtualhumans.mpi-inf.mpg.de\n",
    "\n",
    "<img src=\"./images/f3-rvh.png\" alt=\"Original net\" width=\"80%\">"
   ]
  },
  {
   "cell_type": "markdown",
   "id": "c45322b2",
   "metadata": {
    "slideshow": {
     "slide_type": "subslide"
    }
   },
   "source": [
    "## AI human body shape learning\n",
    "\n",
    "https://virtualhumans.mpi-inf.mpg.de/topics/implicit-shape-and-shape-representation-learning.html\n",
    "\n",
    "<img src=\"./images/f3-shape.png\" alt=\"Original net\" width=\"80%\">"
   ]
  },
  {
   "cell_type": "markdown",
   "id": "6da6b809",
   "metadata": {
    "slideshow": {
     "slide_type": "subslide"
    }
   },
   "source": [
    "## Human 3Diffusion\n",
    "\n",
    "https://yuxuan-xue.com/human-3diffusion/  \n",
    "https://www.youtube.com/watch?v=xK9Ebr19jF0\n",
    "\n",
    "<img src=\"./images/f3-3diffusion.png\" alt=\"Original net\" width=\"80%\">"
   ]
  },
  {
   "cell_type": "markdown",
   "id": "3797eb0a",
   "metadata": {
    "slideshow": {
     "slide_type": "subslide"
    }
   },
   "source": [
    "## Understanding Visual Foundation Models\n",
    "\n",
    "Evaluate Visual Foundation Models by generating 2D \"views\" from 3D model representations. Basically gives a \"camera\" to walk around and explore the 3D latent space of Visual Foundation Models.\n",
    "\n",
    "(also gives a good list of visual foundation models)\n",
    "\n",
    "https://fanegg.github.io/Feat2GS/  \n",
    "https://www.youtube.com/watch?v=4fT5lzcAJqo\n",
    "\n",
    "<img src=\"./images/f3-vfm.png\" alt=\"Original net\" width=\"80%\">"
   ]
  },
  {
   "cell_type": "markdown",
   "id": "30610563",
   "metadata": {
    "slideshow": {
     "slide_type": "subslide"
    }
   },
   "source": [
    "### Interactive demo!\n",
    "\n",
    "https://huggingface.co/spaces/endless-ai/Feat2GS\n",
    "\n",
    "Demo can be run locally (needs CUDA)  \n",
    "https://github.com/fanegg/Feat2GS"
   ]
  },
  {
   "cell_type": "markdown",
   "id": "9f3f613c",
   "metadata": {
    "slideshow": {
     "slide_type": "subslide"
    }
   },
   "source": [
    "## Human-Object Interaction without templates\n",
    "\n",
    "Coolest presentation!  \n",
    "https://virtualhumans.mpi-inf.mpg.de/InterTrack/  \n",
    "https://www.youtube.com/watch?v=x50HSQJt8DA\n",
    "\n",
    "<img src=\"./images/f3-tracking.png\" alt=\"Original net\" width=\"80%\">"
   ]
  },
  {
   "cell_type": "markdown",
   "id": "6b5688a4",
   "metadata": {
    "slideshow": {
     "slide_type": "subslide"
    }
   },
   "source": [
    "Shows the foundational model training on synthetic video recordings of 3D actions generated in a 3D software  \n",
    "\n",
    "https://virtualhumans.mpi-inf.mpg.de/procigen-hdm/  \n",
    "\n",
    "\n",
    "<img src=\"./images/f3-proxygen.png\" alt=\"Original net\" width=\"80%\">"
   ]
  },
  {
   "cell_type": "markdown",
   "id": "8a0bd8f2",
   "metadata": {
    "slideshow": {
     "slide_type": "subslide"
    }
   },
   "source": [
    "## More software and talks from these people\n",
    "\n",
    "https://virtualhumans.mpi-inf.mpg.de/software.html\n",
    "\n",
    "https://virtualhumans.mpi-inf.mpg.de/talks.html"
   ]
  },
  {
   "cell_type": "markdown",
   "id": "267a989c",
   "metadata": {
    "slideshow": {
     "slide_type": "slide"
    }
   },
   "source": [
    "## \"Virtual Humans\" the *whole freaking course* with videos and PDFs!\n",
    "\n",
    "https://virtualhumans.mpi-inf.mpg.de/VH24/\n",
    "\n",
    "https://www.youtube.com/c/TübingenML/playlists\n",
    "\n",
    "<img src=\"./images/f3-lecture.png\" alt=\"Original net\" width=\"80%\">"
   ]
  },
  {
   "cell_type": "markdown",
   "id": "cb508b90",
   "metadata": {
    "slideshow": {
     "slide_type": "slide"
    }
   },
   "source": [
    "<center><img src=\"images/00_thats_all.jpg\",width=1200></center>"
   ]
  }
 ],
 "metadata": {
  "celltoolbar": "Slideshow",
  "kernelspec": {
   "display_name": "Python 3 (ipykernel)",
   "language": "python",
   "name": "python3"
  },
  "language_info": {
   "codemirror_mode": {
    "name": "ipython",
    "version": 3
   },
   "file_extension": ".py",
   "mimetype": "text/x-python",
   "name": "python",
   "nbconvert_exporter": "python",
   "pygments_lexer": "ipython3",
   "version": "3.8.20"
  }
 },
 "nbformat": 4,
 "nbformat_minor": 5
}
