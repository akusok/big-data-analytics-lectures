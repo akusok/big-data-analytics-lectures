{
 "cells": [
  {
   "cell_type": "markdown",
   "id": "129d5ede",
   "metadata": {
    "slideshow": {
     "slide_type": "slide"
    }
   },
   "source": [
    "<center>\n",
    "<img src=\"./images/00_main_arcada.png\" style=\"width:1400px\">\n",
    "</center>"
   ]
  },
  {
   "cell_type": "markdown",
   "id": "5fd649db",
   "metadata": {
    "slideshow": {
     "slide_type": "slide"
    }
   },
   "source": [
    "# Foundational Models 2/3\n",
    "\n",
    "## Image Generation\n",
    "\n",
    "#### Presenter:\n",
    "> Anton Akusok (PhD), **Senior Lecturer in IT / Senior Data engineer at Zalando**<br/> \n",
    "(*email*: anton.akusok@arcada.fi)"
   ]
  },
  {
   "cell_type": "markdown",
   "id": "f895bc5f",
   "metadata": {
    "slideshow": {
     "slide_type": "subslide"
    }
   },
   "source": [
    "## Goals\n",
    "\n",
    "* Understand how image generation works\n",
    "* Learn about most popular tools\n",
    "* Learn about the models"
   ]
  },
  {
   "cell_type": "markdown",
   "id": "29cfc24b",
   "metadata": {
    "slideshow": {
     "slide_type": "slide"
    }
   },
   "source": [
    "# Example: Automatic1111 \n",
    "\n",
    "https://github.com/AUTOMATIC1111/stable-diffusion-webui\n",
    "\n"
   ]
  },
  {
   "cell_type": "markdown",
   "id": "0cb6dbbb",
   "metadata": {
    "slideshow": {
     "slide_type": "subslide"
    }
   },
   "source": [
    "Mac installation guide: https://github.com/AUTOMATIC1111/stable-diffusion-webui/wiki/Installation-on-Apple-Silicon\n",
    "\n",
    "Stable Diffusion model: https://civitai.com/models/312530?modelVersionId=1457203"
   ]
  },
  {
   "cell_type": "markdown",
   "id": "be21e63e",
   "metadata": {
    "slideshow": {
     "slide_type": "subslide"
    }
   },
   "source": [
    "example instructions; tool downloads basic model by itself\n",
    "\n",
    "\n",
    "```\n",
    "brew install cmake protobuf rust python@3.10 git wget\n",
    "git clone https://github.com/AUTOMATIC1111/stable-diffusion-webui\n",
    "```\n",
    "download model into `stable-diffusion-webui/models/Stable-diffusion`\n",
    "\n",
    "```\n",
    "cd stable-diffusion-webui\n",
    "./webui.sh\n",
    "```"
   ]
  },
  {
   "cell_type": "markdown",
   "id": "a84857ca",
   "metadata": {
    "slideshow": {
     "slide_type": "subslide"
    }
   },
   "source": [
    "Positive prompt:\n",
    "\n",
    "* pet hamster dressed as an english gentleman in a fine suite, photorealistic, victorian style\n",
    "\n",
    "Negative prompt:\n",
    " \n",
    "* low resolution, painting, distorted\n",
    "\n",
    "Comparing default model and improved model  \n",
    "https://civitai.com/models/312530/cyberrealistic-xl"
   ]
  },
  {
   "cell_type": "markdown",
   "id": "85b10311",
   "metadata": {
    "slideshow": {
     "slide_type": "subslide"
    }
   },
   "source": [
    "## Iterative image-to-image improvements\n",
    "\n",
    "Read article at:\n",
    "\n",
    "https://github.com/AUTOMATIC1111/stable-diffusion-webui/discussions/2473"
   ]
  },
  {
   "cell_type": "markdown",
   "id": "b0b4b06a",
   "metadata": {
    "slideshow": {
     "slide_type": "subslide"
    }
   },
   "source": [
    "## Alternative: DiffusionBee demo\n",
    "\n",
    "Very simple app with locally running models\n",
    "\n",
    "https://diffusionbee.com"
   ]
  },
  {
   "cell_type": "markdown",
   "id": "99c73893",
   "metadata": {
    "slideshow": {
     "slide_type": "slide"
    }
   },
   "source": [
    "# Example: Comfy UI ~ \"AI Photoshop\"\n",
    "\n",
    "Advanced workflow system to generate any images one can imagine.\n",
    "\n",
    "Combines multiple models and steps for detailed controls like posture.\n",
    "\n",
    "Requires good model understanding; watch guides if you want to get serious in this field."
   ]
  },
  {
   "cell_type": "markdown",
   "id": "0e336f22",
   "metadata": {
    "slideshow": {
     "slide_type": "subslide"
    }
   },
   "source": [
    "<img src=\"./images/f2-hamster-workflow.png\" alt=\"Signatures\" width=\"90%\">"
   ]
  },
  {
   "cell_type": "markdown",
   "id": "4d505493",
   "metadata": {
    "slideshow": {
     "slide_type": "subslide"
    }
   },
   "source": [
    "<img src=\"./images/f2-highres-hamster.png\" alt=\"Signatures\" width=\"50%\">"
   ]
  },
  {
   "cell_type": "markdown",
   "id": "c4bd4aa2",
   "metadata": {
    "slideshow": {
     "slide_type": "subslide"
    }
   },
   "source": [
    "Installation:\n",
    "\n",
    "* https://comfyui-wiki.com/en/install/install-comfyui/install-comfyui-on-mac\n",
    "\n",
    "Models:\n",
    "\n",
    "* General model download: https://comfyui-wiki.com/en/install/install-models/install-vae\n",
    "* Model hosts: civitai.com, huggingface\n",
    "* Example model checkpoint: https://civitai.com/models/443821/cyberrealistic-pony\n",
    "\n",
    "\n",
    "Guides:\n",
    "\n",
    "* Random guide https://stable-diffusion-art.com/comfyui/\n",
    "* Worflow suggestions: https://www.reddit.com/r/StableDiffusion/comments/zchzkr/workflow_guide/\n",
    "* Workflows available on Civitai.com together with models!"
   ]
  },
  {
   "cell_type": "markdown",
   "id": "10daa1d9",
   "metadata": {
    "slideshow": {
     "slide_type": "subslide"
    }
   },
   "source": [
    "Comfy UI installation may complain about Mac access rights: go to Settings -> Privacy and Security -> enable access.\n",
    "\n",
    "Comfy UI opens at an example workflow with comments how to use it. \n",
    "\n",
    "* Read the instructions\n",
    "* Download models (Stable Diffusion checkpoint and VAE)\n",
    "* Place them in correct folders of Comfy UI created by the installer\n",
    "* Restart Comfy UI and select your models\n",
    "\n",
    "Set mask in image mask editor, then run the example workflow."
   ]
  },
  {
   "cell_type": "markdown",
   "id": "08f433e1",
   "metadata": {
    "slideshow": {
     "slide_type": "subslide"
    }
   },
   "source": [
    "## ComfyUI workflows\n",
    "\n",
    "Kinda hard to explain, here is the best demo\n",
    "\n",
    "https://learn.thinkdiffusion.com/a-list-of-the-best-comfyui-workflows/"
   ]
  },
  {
   "cell_type": "markdown",
   "id": "fa4ce57f",
   "metadata": {
    "slideshow": {
     "slide_type": "subslide"
    }
   },
   "source": [
    "## Comfy UI demo\n",
    "\n",
    "In-class demo\n",
    "\n",
    "introduction: https://www.youtube.com/watch?v=LNOlk8oz1nY\n",
    "\n",
    "more detailed guide: https://www.youtube.com/watch?v=VM9snsuoqBc"
   ]
  },
  {
   "cell_type": "markdown",
   "id": "29497956",
   "metadata": {
    "slideshow": {
     "slide_type": "subslide"
    }
   },
   "source": [
    "### upscaling in Comfy UI\n",
    "\n",
    "https://www.youtube.com/watch?v=CxB47DMEyYQ&t=47s"
   ]
  },
  {
   "cell_type": "markdown",
   "id": "213c97e7",
   "metadata": {
    "slideshow": {
     "slide_type": "-"
    }
   },
   "source": [
    "### combine character + pose\n",
    "\n",
    "https://www.youtube.com/watch?v=SacK9tMVNUA"
   ]
  },
  {
   "cell_type": "markdown",
   "id": "adb2aff2",
   "metadata": {
    "slideshow": {
     "slide_type": "slide"
    }
   },
   "source": [
    "# LoRA: Low-Rank Adaptation\n",
    "\n",
    "https://civitai.com/models/66778/renoir-style-lora-for-anything-v50\n",
    "\n",
    "<img src=\"./images/f2-lora.png\" alt=\"Signatures\" width=\"90%\">"
   ]
  },
  {
   "cell_type": "markdown",
   "id": "e96286e4",
   "metadata": {
    "slideshow": {
     "slide_type": "subslide"
    }
   },
   "source": [
    "LoRA works by computing a small correction to model weights without full re-training\n",
    "\n",
    "<img src=\"./images/f2-lora-howto.png\" alt=\"Original net\" width=\"80%\">"
   ]
  },
  {
   "cell_type": "markdown",
   "id": "356448a4",
   "metadata": {
    "slideshow": {
     "slide_type": "subslide"
    }
   },
   "source": [
    "Must be compatible to specific model.\n",
    "\n",
    "<img src=\"./images/f2-hamster.png\" alt=\"Original net\" width=\"90%\">"
   ]
  },
  {
   "cell_type": "markdown",
   "id": "c6947657",
   "metadata": {
    "slideshow": {
     "slide_type": "subslide"
    }
   },
   "source": [
    "## ComfyUI is no-code programming\n",
    "\n",
    "https://github.com/Chaoses-Ib/ComfyScript\n",
    "\n",
    "<img src=\"./images/f2-nocode.png\" alt=\"Original net\" width=\"90%\">"
   ]
  },
  {
   "cell_type": "markdown",
   "id": "c3a7ca8d",
   "metadata": {
    "slideshow": {
     "slide_type": "slide"
    }
   },
   "source": [
    "# Example: Audio generation\n",
    "\n",
    "Exactly the same as image generation, even a similar (audio) diffusion model\n",
    "\n",
    "https://github.com/lks-ai/ComfyUI-StableAudioSampler"
   ]
  },
  {
   "cell_type": "markdown",
   "id": "7317540a",
   "metadata": {
    "slideshow": {
     "slide_type": "subslide"
    }
   },
   "source": [
    "<img src=\"./images/f2-audio.png\" alt=\"Original net\" width=\"90%\">"
   ]
  },
  {
   "cell_type": "markdown",
   "id": "562c75cd",
   "metadata": {
    "slideshow": {
     "slide_type": "subslide"
    }
   },
   "source": [
    "## Text-to-speech\n",
    "\n",
    "Same thing, different model https://github.com/huggingface/parler-tts\n",
    "\n",
    "Connects to Comfy UI as a plugin https://github.com/smthemex/ComfyUI_ParlerTTS"
   ]
  },
  {
   "cell_type": "markdown",
   "id": "fff1e1a8",
   "metadata": {
    "slideshow": {
     "slide_type": "subslide"
    }
   },
   "source": [
    "## Song generation service\n",
    "\n",
    "https://sunnoai.com\n",
    "\n",
    "Even has a free tier; paid tiers give you rights to generated songs"
   ]
  },
  {
   "cell_type": "markdown",
   "id": "0703d6a6",
   "metadata": {
    "slideshow": {
     "slide_type": "slide"
    }
   },
   "source": [
    "# Example: Video generation\n",
    "\n",
    "Service: RunwayML https://runwayml.com, ~100€/month\n",
    "\n",
    "https://academy.runwayml.com/frames/generating-with-frames"
   ]
  },
  {
   "cell_type": "markdown",
   "id": "26d4c04b",
   "metadata": {
    "slideshow": {
     "slide_type": "subslide"
    }
   },
   "source": [
    "Video generation is a HUGE work, one needs to specify:\n",
    "\n",
    "* subject\n",
    "* action\n",
    "* scene\n",
    "* camera\n",
    "* lighting\n",
    "* style\n",
    "\n",
    "https://help.flexclip.com/en/articles/10326783-how-to-write-effective-text-prompts-to-generate-ai-videos"
   ]
  },
  {
   "cell_type": "markdown",
   "id": "a27c9ed1",
   "metadata": {
    "slideshow": {
     "slide_type": "subslide"
    }
   },
   "source": [
    "ComfyUI video workflow possible but likely needs external compute resources or an RTX 5090\n",
    "\n",
    "https://www.youtube.com/watch?v=EgM4OGRj2OQ\n",
    "\n",
    "https://www.runcomfy.com/comfyui-workflows/comfyui-ic-light-workflow-for-video-relighting"
   ]
  },
  {
   "cell_type": "markdown",
   "id": "391d5ff3",
   "metadata": {
    "slideshow": {
     "slide_type": "slide"
    }
   },
   "source": [
    "# Summary\n",
    "\n",
    "AI gives us the tools to make images/audio/video however we like.\n",
    "\n",
    "But we must specify what we want, AI cannot decide for us - and things look ugly when AI decides.\n",
    "\n",
    "AI is not taking our jobs. It gives us more work :D"
   ]
  }
 ],
 "metadata": {
  "celltoolbar": "Slideshow",
  "kernelspec": {
   "display_name": "Python 3 (ipykernel)",
   "language": "python",
   "name": "python3"
  },
  "language_info": {
   "codemirror_mode": {
    "name": "ipython",
    "version": 3
   },
   "file_extension": ".py",
   "mimetype": "text/x-python",
   "name": "python",
   "nbconvert_exporter": "python",
   "pygments_lexer": "ipython3",
   "version": "3.8.20"
  }
 },
 "nbformat": 4,
 "nbformat_minor": 5
}
