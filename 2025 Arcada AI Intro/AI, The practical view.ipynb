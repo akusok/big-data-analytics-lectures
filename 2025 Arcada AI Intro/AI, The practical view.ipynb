{
 "cells": [
  {
   "cell_type": "markdown",
   "id": "f1451d5b",
   "metadata": {
    "slideshow": {
     "slide_type": "slide"
    }
   },
   "source": [
    "<center>\n",
    "<img src=\"./images/00_main_arcada.png\" style=\"width:1400px\">\n",
    "</center>"
   ]
  },
  {
   "cell_type": "markdown",
   "id": "5296ce9b",
   "metadata": {
    "slideshow": {
     "slide_type": "slide"
    }
   },
   "source": [
    "## AI: The practical view\n",
    "\n",
    "#### Presenter:\n",
    "> Anton Akusok (PhD), **Senior Lecturer in IT / Senior data Engineer at Zalando**<br/> \n",
    "(*email*: anton.akusok@arcada.fi)"
   ]
  },
  {
   "cell_type": "markdown",
   "id": "62789dfd",
   "metadata": {
    "slideshow": {
     "slide_type": "slide"
    }
   },
   "source": [
    "## Goals of the lecture\n",
    "\n",
    "* Show LLMs as very simple tools\n",
    "* Learn how to use LLMs to **your** advantage (not OpenAI's, Google's, etc.)\n",
    "* Show examples of real-world LLMs valuable beyond marketing"
   ]
  },
  {
   "cell_type": "markdown",
   "id": "a73e5520",
   "metadata": {
    "slideshow": {
     "slide_type": "slide"
    }
   },
   "source": [
    "## About me\n",
    "\n",
    "- MSc at Aalto, Machine Learning and Data Mining | PhD at U. of Iowa (US), Machine Learning\n",
    "- Postdoc research and teaching here, created several courses in Big Data Analytics program\n",
    "- Consultancy in AI at Silo.AI, software/data engineer at Zalando"
   ]
  },
  {
   "cell_type": "markdown",
   "id": "f046ffb6",
   "metadata": {
    "slideshow": {
     "slide_type": "subslide"
    }
   },
   "source": [
    "## About me\n",
    "\n",
    "- Fun projects: \n",
    "    * GPU-accelerated library for \"Extreme Learning Machines\" method\n",
    "    * same but compatible with Scikit Learn\n",
    "    * same but on iPhone GPU that can solve larger-than-memory tasks\n",
    "    * same as part of iPhone app doing real-time prediction with map data and displaying the predicted map on the device."
   ]
  },
  {
   "cell_type": "markdown",
   "id": "d04a5749",
   "metadata": {
    "slideshow": {
     "slide_type": "subslide"
    }
   },
   "source": [
    "### Glossary\n",
    "\n",
    "* **ML**: Machine Learning, or Applied Statistics. A study of algorithms that make decisions based on data (data statistics) instead of human-made rules."
   ]
  },
  {
   "cell_type": "markdown",
   "id": "60cbdf64",
   "metadata": {
    "slideshow": {
     "slide_type": "subslide"
    }
   },
   "source": [
    "<center>\n",
    "<img src=\"./images/ml.jpg\" style=\"height:700px\">\n",
    "</center>"
   ]
  },
  {
   "cell_type": "markdown",
   "id": "11c9b34c",
   "metadata": {
    "slideshow": {
     "slide_type": "subslide"
    }
   },
   "source": [
    "### Glossary\n",
    "\n",
    "* **ML**: Machine Learning, or Applied Statistics. A study of algorithms that make decisions based on data (data statistics) instead of human-made rules.\n",
    "* **AI**: marketing term for ML that sounds very cool.\n",
    "* **Gen AI**: generative AI, a family of ML algorithms that can output artificially made data samples. Mostly used for pictures and text; can also be \"AI\"-designed parts of cars and such."
   ]
  },
  {
   "cell_type": "markdown",
   "id": "363543fa",
   "metadata": {
    "slideshow": {
     "slide_type": "slide"
    }
   },
   "source": [
    "### Glossary\n",
    "\n",
    "* **LLM**: Large Language Models. \n",
    "    - Language models are ML algorithms that analyze language and build its model, e.g. guess the language of a text based on how frequently its words appear in different languages."
   ]
  },
  {
   "cell_type": "markdown",
   "id": "d54944e5",
   "metadata": {
    "slideshow": {
     "slide_type": "subslide"
    }
   },
   "source": [
    "### Glossary\n",
    "\n",
    "* **LLM**: Large Language Models. \n",
    "- Language models are ML algorithms that analyze language and build its model, e.g. figure out which language is this text based on how frequently its words appear in different languages.\n",
    "    - Large language models use models with `N ~ x*1000` fake \"words\" and many matrices of size N\\*N to represent a language. This makes them at least very large, or insanely huge for production versions. Like burger sizes I saw in US that came in \"Big\", \"Bigger\", and \"The Biggest\".  "
   ]
  },
  {
   "cell_type": "markdown",
   "id": "e49b1de1",
   "metadata": {
    "slideshow": {
     "slide_type": "subslide"
    }
   },
   "source": [
    "### Glossary\n",
    "\n",
    "* **Chatbot**: A specific job for LLM, not a separate method. Simple chatbot is a piece of text starting with instructions \"You are a helpful chatbot\", then the history of conversation, and finally a prompt \"AI answer is...\".  \n",
    "LLM writes the answer that is shown to the user, and added to conversation history."
   ]
  },
  {
   "cell_type": "markdown",
   "id": "0c3a8b61",
   "metadata": {
    "slideshow": {
     "slide_type": "slide"
    }
   },
   "source": [
    "# Using AI"
   ]
  },
  {
   "cell_type": "markdown",
   "id": "8cc081e4",
   "metadata": {
    "slideshow": {
     "slide_type": "slide"
    }
   },
   "source": [
    "<center>\n",
    "<img src=\"./images/ai-in-the-workplace.jpg\" style=\"width:1400px\">\n",
    "</center>"
   ]
  },
  {
   "cell_type": "markdown",
   "id": "828a088a",
   "metadata": {
    "slideshow": {
     "slide_type": "subslide"
    }
   },
   "source": [
    "<center>\n",
    "<img src=\"./images/chatgpt.jpeg\" style=\"height:700px\">\n",
    "</center>"
   ]
  },
  {
   "cell_type": "markdown",
   "id": "14fca1fe",
   "metadata": {
    "slideshow": {
     "slide_type": "slide"
    }
   },
   "source": [
    "## 1. Ask questions\n",
    "\n",
    "\"What means vaara in Leppävaara?\""
   ]
  },
  {
   "cell_type": "markdown",
   "id": "e960994e",
   "metadata": {},
   "source": [
    "- Mix different languages including in the same query, AI does not care\n",
    "- Ask about weird local things, AI knows them from training data"
   ]
  },
  {
   "cell_type": "markdown",
   "id": "9fd5cd08",
   "metadata": {
    "slideshow": {
     "slide_type": "slide"
    }
   },
   "source": [
    "## 2. Coding\n",
    "\n",
    "\"Give me this thing that I rarely need and forgot its syntax\""
   ]
  },
  {
   "cell_type": "markdown",
   "id": "ee148f44",
   "metadata": {},
   "source": [
    "- Instantly makes one an expert in shallow familar areas: terminal commands, AWS console\n",
    "- Saves time Googling and reading documentation\n",
    "- Saves time on monotonous tasks like \"Convert this \\<text\\> into an SQL schema\"\n",
    "- TESTS! And other tasks with lots of boilerplate code to write like comments"
   ]
  },
  {
   "cell_type": "markdown",
   "id": "494425a1",
   "metadata": {
    "slideshow": {
     "slide_type": "slide"
    }
   },
   "source": [
    "## 3. Natural Language Interface @ Internal Docs\n",
    "\n",
    "Googling 2.0, specifically for your documentation."
   ]
  },
  {
   "cell_type": "markdown",
   "id": "7c45bdb5",
   "metadata": {
    "slideshow": {
     "slide_type": "subslide"
    }
   },
   "source": [
    "Uses **RAG**: Retrieval Augmented Generation.\n",
    "\n",
    "1. Cut all data into chunks (paragraphs), convert them to numbers, and put into a database\n",
    "2. Convert user question into numbers too\n",
    "3. Search database for most similar numbers to user question\n",
    "4. Take raw text from those \"most similar numbers\" and attach it to user question as **context**"
   ]
  },
  {
   "cell_type": "markdown",
   "id": "751b1261",
   "metadata": {
    "slideshow": {
     "slide_type": "subslide"
    }
   },
   "source": [
    "- Some users report poor performance; throwing random text chunks at LLM may not help much\n",
    "- Common sense improvements: filters, tags, re-formulate question with LLM before converting to numbers\n",
    "- New models support ~100.000 words in a query; can include full documents instead of chunks"
   ]
  },
  {
   "cell_type": "markdown",
   "id": "6c1e1adf",
   "metadata": {
    "slideshow": {
     "slide_type": "slide"
    }
   },
   "source": [
    "## How does LLM work?"
   ]
  },
  {
   "cell_type": "markdown",
   "id": "b208acbf",
   "metadata": {},
   "source": [
    "Best explanations I know are at 3Blue1Brown Youtube channel:\n",
    "\n",
    "\n",
    "**Large Language Models explained briefly**  (~8 minutes)  \n",
    "https://www.youtube.com/watch?v=LPZh9BOjkQs"
   ]
  },
  {
   "cell_type": "code",
   "execution_count": 30,
   "id": "f76aa917",
   "metadata": {
    "scrolled": true,
    "slideshow": {
     "slide_type": "subslide"
    }
   },
   "outputs": [
    {
     "data": {
      "image/jpeg": "[encoded data removed]",
      "text/html": [
       "\n",
       "        <iframe\n",
       "            width=\"800\"\n",
       "            height=\"300\"\n",
       "            src=\"https://www.youtube.com/embed/LPZh9BOjkQs\"\n",
       "            frameborder=\"0\"\n",
       "            allowfullscreen\n",
       "            \n",
       "        ></iframe>\n",
       "        "
      ],
      "text/plain": [
       "<IPython.lib.display.YouTubeVideo at 0x111591970>"
      ]
     },
     "execution_count": 30,
     "metadata": {},
     "output_type": "execute_result"
    }
   ],
   "source": [
    "from IPython.display import YouTubeVideo\n",
    "\n",
    "YouTubeVideo('LPZh9BOjkQs', width=800, height=300)"
   ]
  },
  {
   "cell_type": "markdown",
   "id": "b18c3df4",
   "metadata": {
    "slideshow": {
     "slide_type": "slide"
    }
   },
   "source": [
    "<center>\n",
    "<img src=\"./images/00_questions.jpg\" style=\"width:1200px\">\n",
    "</center>"
   ]
  },
  {
   "cell_type": "markdown",
   "id": "b7801235",
   "metadata": {
    "slideshow": {
     "slide_type": "slide"
    }
   },
   "source": [
    "# Working Together with AI"
   ]
  },
  {
   "cell_type": "markdown",
   "id": "0cf98b13",
   "metadata": {
    "slideshow": {
     "slide_type": "slide"
    }
   },
   "source": [
    "<center>\n",
    "<img src=\"./images/work-with-ai.jpg\" style=\"width:1400px\">\n",
    "</center>"
   ]
  },
  {
   "cell_type": "markdown",
   "id": "8dcbe1b7",
   "metadata": {
    "slideshow": {
     "slide_type": "slide"
    }
   },
   "source": [
    "Issue with using AI: \n",
    "\n",
    "\"If you worked hard to find a really good way of using AI, who is getting paid?\""
   ]
  },
  {
   "cell_type": "markdown",
   "id": "8e132638",
   "metadata": {
    "slideshow": {
     "slide_type": "subslide"
    }
   },
   "source": [
    "Clarification: \n",
    "\n",
    "\"Who is **not** getting paid?\"  (noʎ)"
   ]
  },
  {
   "cell_type": "markdown",
   "id": "4c09a490",
   "metadata": {
    "slideshow": {
     "slide_type": "subslide"
    }
   },
   "source": [
    "Getting paid is tied to creating value. *Using* LLMs means that LLMs themselves create value, and LLM creators receive its financial equivalent."
   ]
  },
  {
   "cell_type": "markdown",
   "id": "8e715fc9",
   "metadata": {
    "slideshow": {
     "slide_type": "subslide"
    }
   },
   "source": [
    "Getting paid is tied to creating value. *Using* LLMs means that LLMs themselves create value, and LLM creators receive its financial equivalent.\n",
    "\n",
    "There is a way of working together with LLMs, using them like you use any other tool. This replaces the requirement of \"the best\" LLM to a \"good enough\" model that can be free and run locally. \n",
    "\n",
    "By using LLMs as tools in *your* work, *you* create value and *you* get the money."
   ]
  },
  {
   "cell_type": "markdown",
   "id": "1a807e0b",
   "metadata": {
    "slideshow": {
     "slide_type": "subslide"
    }
   },
   "source": [
    "Getting paid is tied to creating value. *Using* LLMs means that LLMs themselves create value, and LLM creators receive its financial equivalent.\n",
    "\n",
    "There is a way of working together with LLMs, using them like you use any other tool. This replaces the requirement of \"the best\" LLM to a \"good enough\" model that is often free and runs locally. \n",
    "\n",
    "By using LLMs as tools in *your* work, *you* create value and *you* get the money.\n",
    "\n",
    "I could not find any material about it online.  \n",
    "Maybe the \"you have to work\"-narrative is bad at attracting readers..."
   ]
  },
  {
   "cell_type": "markdown",
   "id": "98ec0d62",
   "metadata": {
    "slideshow": {
     "slide_type": "slide"
    }
   },
   "source": [
    "## Example: AI fashion company\n",
    "\n",
    "(saw a demo video but can't find it anymore, will summarize myself)\n",
    "\n",
    "There is a successful startup that generated fashion image content (pictures, videos) for actual fashion brands that were printed and displayed in actual advertisement campaigns in different cities across Europe. Also ~100M investments. How did they do that?"
   ]
  },
  {
   "cell_type": "markdown",
   "id": "08accd48",
   "metadata": {
    "slideshow": {
     "slide_type": "subslide"
    }
   },
   "source": [
    "- Get experts that understand, run, train and improve AI models (boring)"
   ]
  },
  {
   "cell_type": "markdown",
   "id": "b476d733",
   "metadata": {
    "slideshow": {
     "slide_type": "subslide"
    }
   },
   "source": [
    "- Get experts that understand, run, train and improve AI models (boring)\n",
    "- Get designers that work with AI models to simulate specific material like fabric. Spend a lot of time on consistently getting it good"
   ]
  },
  {
   "cell_type": "markdown",
   "id": "09d6c63f",
   "metadata": {
    "slideshow": {
     "slide_type": "subslide"
    }
   },
   "source": [
    "- Get experts that understand, run, train and improve AI models (boring)\n",
    "- Get designers that work with AI models to simulate specific material like fabric. Spend a lot of time on consistently getting it good\n",
    "- Build internal library of tools that simulate fabrics, other specific things really well"
   ]
  },
  {
   "cell_type": "markdown",
   "id": "5bf0c995",
   "metadata": {
    "slideshow": {
     "slide_type": "subslide"
    }
   },
   "source": [
    "- Learn to tune produced photographs into needed style, or tune small elements of one photo. Example is \"among the croud\" photo where they manually tuned 30 faces of random people around the fashion model that AI initially generated imperfectly"
   ]
  },
  {
   "cell_type": "markdown",
   "id": "30e084ff",
   "metadata": {
    "slideshow": {
     "slide_type": "subslide"
    }
   },
   "source": [
    "- Learn to tune produced photographs into needed style, or tune small elements of one photo. Example is \"among the croud\" photo where they manually tuned 30 faces of random people around the fashion model that AI initially generated imperfectly\n",
    "- Build virtual fashion \"models\" with profiles like real people have. Specific looks, traits. Customers choose models and get the photos they wanted"
   ]
  },
  {
   "cell_type": "markdown",
   "id": "aeefbbde",
   "metadata": {
    "slideshow": {
     "slide_type": "subslide"
    }
   },
   "source": [
    "**Summary:** \n",
    "\n",
    "- 10% AI + 90% product work \n",
    "- resulted in capabilities to create image assets to customer demands\n",
    "- with consistently high quality. \n",
    "- Good enough for large printed posters. \n",
    "- AI used as a tool like a painter could use a brush or a stylus."
   ]
  },
  {
   "cell_type": "markdown",
   "id": "b1bb2917",
   "metadata": {
    "slideshow": {
     "slide_type": "subslide"
    }
   },
   "source": [
    "### Domain expertise + AI as a tool = Useful product"
   ]
  },
  {
   "cell_type": "markdown",
   "id": "6b5273b0",
   "metadata": {
    "slideshow": {
     "slide_type": "slide"
    }
   },
   "source": [
    "## 4. AI Bot @ Data Analytics\n",
    "\n",
    "\"How can we make AI serve *trustworthy* KPI numbers?\""
   ]
  },
  {
   "cell_type": "markdown",
   "id": "574f4207",
   "metadata": {
    "slideshow": {
     "slide_type": "subslide"
    }
   },
   "source": [
    "\"How can we make AI serve *trustworthy* KPI numbers?\"\n",
    "\n",
    "We can not. But AI can be a great easy to use interface for normal code."
   ]
  },
  {
   "cell_type": "markdown",
   "id": "299aa87f",
   "metadata": {
    "slideshow": {
     "slide_type": "subslide"
    }
   },
   "source": [
    "1. Select few KPIs and write code for them, e.g. `get_sales_by_country(start_date, end_date, country_code)`\n",
    "2. AI figures out functions to call and parameters to set\n",
    "3. Code calls functions to AI definition, gets numbers back\n",
    "4. AI writes a nice reply to users with the KPI numbers\n",
    "5. Exact query code is available to the user \n",
    "6. AI can explain how exactly the KPIs are calculated"
   ]
  },
  {
   "cell_type": "markdown",
   "id": "98c80238",
   "metadata": {
    "slideshow": {
     "slide_type": "subslide"
    }
   },
   "source": [
    "\n",
    "Also: \n",
    "- no improvisation on KPI definitions from AI\n",
    "- no improvisation on making up new KPIs\n",
    "- limited scope but supports most questions"
   ]
  },
  {
   "cell_type": "markdown",
   "id": "89acfba8",
   "metadata": {
    "slideshow": {
     "slide_type": "slide"
    }
   },
   "source": [
    "<center>\n",
    "<img src=\"./images/00_questions.jpg\" style=\"width:1200px\">\n",
    "</center>"
   ]
  },
  {
   "cell_type": "markdown",
   "id": "4d5ec815",
   "metadata": {
    "slideshow": {
     "slide_type": "slide"
    }
   },
   "source": [
    "# LLM Live Demo\n",
    "\n",
    "`langchain` library gives insights on how \"AI\" actually works"
   ]
  },
  {
   "cell_type": "code",
   "execution_count": null,
   "id": "53a096c1",
   "metadata": {
    "slideshow": {
     "slide_type": "slide"
    }
   },
   "outputs": [],
   "source": [
    "#  %pip install langchain langchain-ollama langchain-community\n",
    "#  you would need 'ollama' free app, and a small '3b' model \n",
    "#  that can use tools from here: https://ollama.com/search?c=tools"
   ]
  },
  {
   "cell_type": "code",
   "execution_count": 31,
   "id": "dcf973bb",
   "metadata": {},
   "outputs": [],
   "source": [
    "from langchain_ollama import OllamaLLM, ChatOllama, OllamaEmbeddings\n",
    "from langchain_core.vectorstores import InMemoryVectorStore\n",
    "from langchain_core.tools import tool\n",
    "from langchain_core.messages import HumanMessage\n",
    "from langchain.prompts import PromptTemplate\n",
    "from langchain.agents import AgentExecutor, create_react_agent\n",
    "from langchain import ConversationChain\n",
    "\n",
    "import math\n",
    "import numexpr"
   ]
  },
  {
   "cell_type": "code",
   "execution_count": 32,
   "id": "41818a19",
   "metadata": {
    "slideshow": {
     "slide_type": "subslide"
    }
   },
   "outputs": [],
   "source": [
    "llm = OllamaLLM(model=\"llama3.2\", temperature=0.9)"
   ]
  },
  {
   "cell_type": "markdown",
   "id": "f28a4b41",
   "metadata": {
    "slideshow": {
     "slide_type": "slide"
    }
   },
   "source": [
    "### Call LLM"
   ]
  },
  {
   "cell_type": "code",
   "execution_count": 33,
   "id": "699334c5",
   "metadata": {
    "scrolled": true,
    "slideshow": {
     "slide_type": "subslide"
    }
   },
   "outputs": [
    {
     "name": "stdout",
     "output_type": "stream",
     "text": [
      "For a pasta lover, here are five vacation destinations that will make your taste buds dance with joy:\n",
      "\n",
      "1. **Rome, Italy**: The Eternal City is the culinary capital of Italy, and its pasta dishes are legendary. From carbonara to cacio e pepe, Rome offers an endless array of delicious pasta options. Visit local trattorias, try authentic Neapolitan pizza, and indulge in the rich flavors of Italian cuisine.\n",
      "\n",
      "2. **Tuscany, Italy**: Tuscany is known for its rolling hills, charming villages, and delectable pasta dishes. The region's specialties include ribollita (a hearty soup made with vegetables and bread), pappardelle al cinghiale (wide noodles with wild boar ragù), and cantucci con vin santo (almond biscuits served with dessert wine). Visit local vineyards, olive groves, and pasta farms to experience the authentic flavors of Tuscany.\n",
      "\n",
      "3. **Naples, Italy**: Naples is a food lover's paradise, and its pasta dishes are some of the best in the world. Try classic Neapolitan specialties like spaghetti alle vongole (spaghetti with clams), ziti alla napoletana (twisted noodles with tomato sauce and anchovies), or spaghetti carbonara. Visit the famous Piazza del Plebiscito, sample local street food, and explore the historic center's culinary treasures.\n",
      "\n",
      "4. **Croatian Coast, Croatia**: The Croatian Coast offers a unique blend of Mediterranean and Eastern European cuisine. Try local pasta dishes like penne alla siciliana (pasta with tomato sauce and anchovies), mafunza (gnocchi-like dumplings filled with potatoes and onions), or palacinke (thin pancakes filled with ham, cheese, and vegetables). Visit Hvar Island, Split's Diocletian's Palace, or Dubrovnik to experience the region's culinary charm.\n",
      "\n",
      "5. **Sicily, Italy**: Sicily is a pasta lover's dream destination, with its rich flavors and authentic dishes like spaghetti alla norma (spaghetti with eggplant and ricotta salata), rigatoni alle semifreddi (twisted noodles with cherry tomatoes and mozzarella), or cannoli siciliani (fried pastry shells filled with sweetened ricotta cheese). Visit the Baroque city of Noto, the ancient Greek ruins of Agrigento, or the bustling markets of Palermo to experience the island's culinary delights.\n",
      "\n",
      "Each destination offers a unique pasta culture, so get ready to indulge in delicious food and unforgettable experiences!\n"
     ]
    }
   ],
   "source": [
    "text = \"What are 5 vacation destinations for someone who loves to eat pasta?\"\n",
    "\n",
    "print(llm.invoke(text))"
   ]
  },
  {
   "cell_type": "code",
   "execution_count": 34,
   "id": "625534c5",
   "metadata": {
    "scrolled": true,
    "slideshow": {
     "slide_type": "subslide"
    }
   },
   "outputs": [
    {
     "name": "stdout",
     "output_type": "stream",
     "text": [
      "Here are 5 vacation destinations that are a must-visit for pizza lovers:\n",
      "\n",
      "1. **Naples, Italy**: The birthplace of pizza, Naples is a paradise for pizza enthusiasts. Try the classic Neapolitan-style pizza at places like Pizzeria Brandi or Pizzeria Starita, which have been serving some of the city's best pies since 1780.\n",
      "\n",
      "2. **Rome, Italy**: Rome may not be as famous for its pizza as Naples, but it still has plenty to offer. Visit Pizzeria La Montecarlo or Pizzeria Bonci for delicious wood-fired pizzas with unique toppings like truffle and prosciutto.\n",
      "\n",
      "3. **New York City, USA**: The Big Apple is home to some of the world's best pizzerias. Visit Lombardi's, which has been serving classic Neapolitan-style pizza since 1905, or Joe's Pizza, a New York institution that's been around since 1975.\n",
      "\n",
      "4. **Naples Beach, Florida, USA**: This charming beach town on the Gulf Coast is known for its delicious pies at Naples Beach Pizzeria and Big Al's Pizzeria. Enjoy fresh seafood and unique toppings like alligator sausage or shrimp scampi.\n",
      "\n",
      "5. **Sicily, Italy**: Sicily is famous for its rich pizza traditions, with popular destinations like Palermo and Catania offering some of the best pies in the country. Visit Pizzeria Sfincione in Palermo, which serves classic Sicilian-style pizza, or try a modern twist at Pizzeria da Cicciotto in Taormina.\n",
      "\n",
      "These destinations offer an unforgettable culinary experience for anyone who loves pizza!"
     ]
    }
   ],
   "source": [
    "text = \"What are 5 vacation destinations for someone who loves to eat pizza?\"\n",
    "\n",
    "for chunk in llm.stream(text):\n",
    "    print(chunk, end=\"\", flush=True)"
   ]
  },
  {
   "cell_type": "markdown",
   "id": "bc942e3c",
   "metadata": {
    "slideshow": {
     "slide_type": "slide"
    }
   },
   "source": [
    "### Chat model"
   ]
  },
  {
   "cell_type": "code",
   "execution_count": 36,
   "id": "44fab5bb",
   "metadata": {
    "scrolled": true,
    "slideshow": {
     "slide_type": "subslide"
    }
   },
   "outputs": [
    {
     "name": "stdout",
     "output_type": "stream",
     "text": [
      "A Finnish vacation, that's an adventure! As a crazy person, you'll want food that's hearty, flavorful, and perhaps a little unconventional. Here are 5 unique foods to try while in Finland:\n",
      "\n",
      "1. **Karjalanpiirakka (Karelian Pasties)**: A traditional Finnish dish from the region of Karelia, these pasties are filled with rye flour, rice, potatoes, and sometimes even meat or fish. They're typically served with a dollop of sour cream and some fried onions.\n",
      "2. **Salmiakki (Salty Licorice)**: Finns love their salty licorice, and it's a staple in many Finnish candies and snacks. Try the classic Salmiakki candy or experiment with different flavors like saltwater taffy or chocolate-covered salmiakki.\n",
      "3. **Reindeer Meat (Poronkäristys)**: For the truly adventurous, try reindeer meat, which is a popular game meat in Finland. It's often served as a stew or in a salad, and it's said to have a unique flavor that's both lean and flavorful.\n",
      "4. **Cloudberry Jam (Klönsilläliina)**: Cloudberries are a type of Arctic fruit that's native to Finland. The jam made from them is sweet, tart, and utterly delicious. Try it on toast, yogurt, or even as a topping for ice cream.\n",
      "5. **Kalakukko (Fish Pie)**: This traditional Finnish fish pie is filled with salmon or other fish, potatoes, and onions, then baked in a rye crust. It's a hearty, comforting dish that's perfect for a cold winter's night.\n",
      "\n",
      "Remember to also try some classic Finnish desserts like karjalanpitsa (Karelian pasty) and pudding, as well as sample some local beers and spirits, like Karjala or Korvapuusti. Enjoy your Finnish adventure!\n"
     ]
    }
   ],
   "source": [
    "chat_model = ChatOllama(model=\"llama3.2\")\n",
    "print(chat_model.invoke(\n",
    "    \"What are 5 best things to eat for a crazy person \"\n",
    "    \" who decided to spend their vacation in Finland?\"\n",
    ").content)"
   ]
  },
  {
   "cell_type": "markdown",
   "id": "c1baefde",
   "metadata": {
    "slideshow": {
     "slide_type": "subslide"
    }
   },
   "source": [
    "LLM itself has no memory of the current conversation.  \n",
    "It takes input and generates output."
   ]
  },
  {
   "cell_type": "code",
   "execution_count": 38,
   "id": "5b11ac78",
   "metadata": {
    "scrolled": true
   },
   "outputs": [
    {
     "name": "stdout",
     "output_type": "stream",
     "text": [
      "How can I assist you today?\n",
      "\n",
      "This is the beginning of our conversation, so you haven't said anything yet. I'm happy to chat with you! What would you like to talk about?\n"
     ]
    }
   ],
   "source": [
    "print(chat_model.invoke(\"Hello!\").content)\n",
    "print()\n",
    "print(chat_model.invoke(\"What did I just say to you?\").content)"
   ]
  },
  {
   "cell_type": "markdown",
   "id": "d0fd4b22",
   "metadata": {
    "slideshow": {
     "slide_type": "subslide"
    }
   },
   "source": [
    "Chatbots are LLMs with extra text that tells them how to be chatbot, and what the user said before."
   ]
  },
  {
   "cell_type": "code",
   "execution_count": 41,
   "id": "9fa868b7",
   "metadata": {
    "scrolled": true
   },
   "outputs": [
    {
     "name": "stderr",
     "output_type": "stream",
     "text": [
      "Error in StdOutCallbackHandler.on_chain_start callback: AttributeError(\"'NoneType' object has no attribute 'get'\")\n"
     ]
    },
    {
     "name": "stdout",
     "output_type": "stream",
     "text": [
      "Prompt after formatting:\n",
      "\u001b[32;1m\u001b[1;3mThe following is a friendly conversation between a human and an AI. The AI is talkative and provides lots of specific details from its context. If the AI does not know the answer to a question, it truthfully says it does not know.\n",
      "\n",
      "Current conversation:\n",
      "\n",
      "Human: Hi there\n",
      "AI:\u001b[0m\n",
      "\n",
      "\u001b[1m> Finished chain.\u001b[0m\n",
      "Hello! It's great to meet you! I'm an artificial intelligence designed to assist and communicate with humans in a helpful and informative way. My knowledge base is constantly being updated with new information from various sources, including but not limited to the internet, books, and research papers. I can provide answers on a wide range of topics, from science and history to entertainment and culture. However, please keep in mind that my understanding is based on my training data, and while I strive to be accurate, there may be instances where my knowledge is incomplete or outdated. What's on your mind today?\n"
     ]
    }
   ],
   "source": [
    "conversation = ConversationChain(llm=chat_model, verbose=True)\n",
    "\n",
    "print(conversation.predict(input=\"Hi there\"))"
   ]
  },
  {
   "cell_type": "code",
   "execution_count": 43,
   "id": "f8c56175",
   "metadata": {
    "scrolled": true,
    "slideshow": {
     "slide_type": "subslide"
    }
   },
   "outputs": [
    {
     "name": "stderr",
     "output_type": "stream",
     "text": [
      "Error in StdOutCallbackHandler.on_chain_start callback: AttributeError(\"'NoneType' object has no attribute 'get'\")\n"
     ]
    },
    {
     "name": "stdout",
     "output_type": "stream",
     "text": [
      "Prompt after formatting:\n",
      "\u001b[32;1m\u001b[1;3mThe following is a friendly conversation between a human and an AI. The AI is talkative and provides lots of specific details from its context. If the AI does not know the answer to a question, it truthfully says it does not know.\n",
      "\n",
      "Current conversation:\n",
      "Human: Hi there\n",
      "AI: Hello! It's great to meet you! I'm an artificial intelligence designed to assist and communicate with humans in a helpful and informative way. My knowledge base is constantly being updated with new information from various sources, including but not limited to the internet, books, and research papers. I can provide answers on a wide range of topics, from science and history to entertainment and culture. However, please keep in mind that my understanding is based on my training data, and while I strive to be accurate, there may be instances where my knowledge is incomplete or outdated. What's on your mind today?\n",
      "Human: What did I just say to you?\n",
      "AI: You didn't say anything yet! This conversation has just started with a friendly greeting. You've asked me what you said to me, but that's not something you'd typically say in the beginning of our conversation. Would you like to share your thoughts or ask a question? I'm here to help and chat with you about anything that's on your mind!\n",
      "Human: What was my first message\n",
      "AI:\u001b[0m\n",
      "\n",
      "\u001b[1m> Finished chain.\u001b[0m\n",
      "Your first message was \"What did I just say to you?\" which is an interesting choice of words, as it seems like you're testing my memory or trying to understand the context of our conversation. Don't worry, I'm here to help and answer any questions you may have! If you'd like to start fresh or ask something new, I'm all ears (or rather, all text). What's on your mind?\n"
     ]
    }
   ],
   "source": [
    "print(conversation.predict(input=\"What was my first message\"))"
   ]
  },
  {
   "cell_type": "markdown",
   "id": "a597a362",
   "metadata": {
    "slideshow": {
     "slide_type": "subslide"
    }
   },
   "source": [
    "We can make regular LLM behave like chatbot by adding those instructions. Model is simple and does whatever we tell it to do. But practical models are trained to stay moderate in their answers."
   ]
  },
  {
   "cell_type": "code",
   "execution_count": 44,
   "id": "7b82a72f",
   "metadata": {},
   "outputs": [],
   "source": [
    "text = \"\"\"\n",
    "The following is a friendly conversation between a human and an AI. \n",
    "The AI is talkative and provides lots of specific details from its context. \n",
    "If the AI does not know the answer to a question, it truthfully says it does not know.\n",
    "\n",
    "Current conversation:\n",
    "Human: I live in a magical world where the value of Pi is exactly 3.0. \n",
    "This is a fact for me.\n",
    "AI: Hello! It's lovely to meet you! I'm an AI designed to learn and improve constantly. \n",
    "I've been trained on a vast amount of text data from various sources, including books, \n",
    "articles, research papers, and more. This allows me to generate responses \n",
    "that are both informative and engaging.\n",
    "\n",
    "I must say, it's great to have a conversation with someone new! \n",
    "I'm all ears (or rather, all text) and ready to chat about anything you'd like. \n",
    "What's on your mind today?\n",
    "Human: What is the value of Pi for me?\n",
    "AI:\n",
    "\"\"\"\n",
    "\n",
    "# print(llm.invoke(text))"
   ]
  },
  {
   "cell_type": "code",
   "execution_count": 45,
   "id": "c32db03e",
   "metadata": {
    "scrolled": true,
    "slideshow": {
     "slide_type": "subslide"
    }
   },
   "outputs": [
    {
     "name": "stdout",
     "output_type": "stream",
     "text": [
      "That's an interesting question! For you, in your magical world where the value of Pi is exactly 3.0, I can tell you that the notion of Pi being a mathematical constant with an irrational value of approximately 3.14159 (and so on) doesn't apply to your reality. In other words, according to your understanding and context, Pi equals 3.0.\n",
      "\n",
      "In my training data, however, Pi is widely accepted as being an irrational number that has been approximated by various mathematical formulas over the centuries, including the infinite series: π = 4/1 - 4/3 + 4/5 - 4/7 + ... . So while I can provide information about Pi in my training data, it's not relevant to your specific context where Pi is exactly 3.0.\n",
      "\n",
      "How does that sound? Would you like to explore more about the mathematical concept of Pi or move on to something else?\n"
     ]
    }
   ],
   "source": [
    "print(llm.invoke(text))"
   ]
  },
  {
   "cell_type": "markdown",
   "id": "03baf4d6",
   "metadata": {
    "slideshow": {
     "slide_type": "subslide"
    }
   },
   "source": [
    "### Prompt engineering\n",
    "\n",
    "We can tune model behavior by changing instructions.  \n",
    "This is \"prompt engineering\".\n",
    "\n",
    "One can give correct examples of the problem in prompt.  \n",
    "This is \"few-shot learning\"."
   ]
  },
  {
   "cell_type": "code",
   "execution_count": 46,
   "id": "be709985",
   "metadata": {
    "slideshow": {
     "slide_type": "subslide"
    }
   },
   "outputs": [
    {
     "name": "stdout",
     "output_type": "stream",
     "text": [
      "Pi is approximately 3.14 for most mathematical contexts. In your magical world where it's exactly 3.0, that's a unique aspect of your reality!\n"
     ]
    }
   ],
   "source": [
    "text = \"\"\"\n",
    "The following is a friendly conversation between a human and an AI. \n",
    "The AI is concise. \n",
    "If the AI does not know the answer to a question, it truthfully says it does not know.\n",
    "\n",
    "Current conversation:\n",
    "Human: I live in a magical world where the value of Pi is exactly 3.0. This is a fact for me.\n",
    "AI: Hello! It's lovely to meet you! I'm an AI designed to learn and improve constantly. I've been trained on a vast amount of text data from various sources, including books, articles, research papers, and more. This allows me to generate responses that are both informative and engaging.\n",
    "\n",
    "I must say, it's great to have a conversation with someone new! I'm all ears (or rather, all text) and ready to chat about anything you'd like. What's on your mind today?\n",
    "Human: What is the value of Pi for me?\n",
    "AI:\n",
    "\"\"\"\n",
    "\n",
    "print(llm.invoke(text))"
   ]
  },
  {
   "cell_type": "markdown",
   "id": "59bbcb6a",
   "metadata": {
    "slideshow": {
     "slide_type": "slide"
    }
   },
   "source": [
    "### RAG\n",
    "Load text from database into the prompt"
   ]
  },
  {
   "cell_type": "code",
   "execution_count": 47,
   "id": "759518df",
   "metadata": {
    "slideshow": {
     "slide_type": "subslide"
    }
   },
   "outputs": [],
   "source": [
    "text = \"LangChain is the framework for building context-aware reasoning applications\"\n",
    "text2 = \"Hello! How can I help you?\""
   ]
  },
  {
   "cell_type": "code",
   "execution_count": 48,
   "id": "81fbfc98",
   "metadata": {},
   "outputs": [],
   "source": [
    "# converting text to numbers is by another AI model\n",
    "embeddings = OllamaEmbeddings(model=\"nomic-embed-text\")"
   ]
  },
  {
   "cell_type": "code",
   "execution_count": 49,
   "id": "44fc3d20",
   "metadata": {},
   "outputs": [],
   "source": [
    "# load here PDFs, code base, documentation, anything else\n",
    "# use a real database with fast vector similarity search\n",
    "\n",
    "vectorstore = InMemoryVectorStore.from_texts(\n",
    "    [text, text2],\n",
    "    embedding=embeddings,\n",
    ")"
   ]
  },
  {
   "cell_type": "code",
   "execution_count": 50,
   "id": "47732544",
   "metadata": {
    "slideshow": {
     "slide_type": "subslide"
    }
   },
   "outputs": [],
   "source": [
    "# gonna search our database\n",
    "retriever = vectorstore.as_retriever()"
   ]
  },
  {
   "cell_type": "code",
   "execution_count": 51,
   "id": "db3ab36d",
   "metadata": {},
   "outputs": [
    {
     "data": {
      "text/plain": [
       "Document(id='1ebab95b-d557-45bb-94f0-97ccb1b6caa1', page_content='LangChain is the framework for building context-aware reasoning applications')"
      ]
     },
     "execution_count": 51,
     "metadata": {},
     "output_type": "execute_result"
    }
   ],
   "source": [
    "retriever.invoke(\"What is LangChain?\")[0]"
   ]
  },
  {
   "cell_type": "code",
   "execution_count": 52,
   "id": "237a745d",
   "metadata": {},
   "outputs": [
    {
     "data": {
      "text/plain": [
       "Document(id='d54ca06b-eb0d-4c57-83f4-dd643c03a9ad', page_content='Hello! How can I help you?')"
      ]
     },
     "execution_count": 52,
     "metadata": {},
     "output_type": "execute_result"
    }
   ],
   "source": [
    "retriever.invoke(\"hi there\")[0]"
   ]
  },
  {
   "cell_type": "markdown",
   "id": "c4aff39f",
   "metadata": {
    "slideshow": {
     "slide_type": "slide"
    }
   },
   "source": [
    "### LLM with Tools"
   ]
  },
  {
   "cell_type": "markdown",
   "id": "5abb0ef9",
   "metadata": {
    "slideshow": {
     "slide_type": "subslide"
    }
   },
   "source": [
    "<center>\n",
    "<img src=\"./images/apes_tools.jpg\" style=\"width:1200px\">\n",
    "</center>"
   ]
  },
  {
   "cell_type": "code",
   "execution_count": 53,
   "id": "836d09c9",
   "metadata": {
    "slideshow": {
     "slide_type": "subslide"
    }
   },
   "outputs": [
    {
     "name": "stdout",
     "output_type": "stream",
     "text": [
      "Two plus three is 5.\n",
      "\n",
      "Forty-five divided by five is 9.\n"
     ]
    }
   ],
   "source": [
    "print(chat_model.invoke(\n",
    "    \"What is two plus three? Also what is 45 / 5?\"\n",
    ").content)"
   ]
  },
  {
   "cell_type": "code",
   "execution_count": 54,
   "id": "e8451cf9",
   "metadata": {
    "slideshow": {
     "slide_type": "subslide"
    }
   },
   "outputs": [
    {
     "name": "stdout",
     "output_type": "stream",
     "text": [
      "To calculate the first expression:\n",
      "\n",
      "3 * 12 = 36\n",
      "\n",
      "To calculate the second expression, we need to follow the order of operations (PEMDAS):\n",
      "\n",
      "1. Divide 26449 by 2462: 26449 ÷ 2462 ≈ 10.76\n",
      "2. Add 112367 and 10.76: 112367 + 10.76 = 112377.76\n",
      "\n",
      "So, the result of the second expression is approximately 112377.76.\n"
     ]
    }
   ],
   "source": [
    "task = \"What is 3 * 12? Also, what is 112367 + 26449 / 2462?\"\n",
    "print(chat_model.invoke(task).content)"
   ]
  },
  {
   "cell_type": "code",
   "execution_count": 55,
   "id": "d8404c8f",
   "metadata": {
    "slideshow": {
     "slide_type": "subslide"
    }
   },
   "outputs": [],
   "source": [
    "@tool\n",
    "def calculator(expression: str) -> str:\n",
    "    \"\"\"Calculator that runs mathetical expressions in `numexpr` and returns their result.\n",
    "\n",
    "    Expression should be a single line mathematical expression\n",
    "    that solves the problem.\n",
    "\n",
    "    Examples:\n",
    "        \"37593 * 67\" for \"37593 times 67\"\n",
    "        \"37593**(1/5)\" for \"37593^(1/5)\"\n",
    "    \"\"\"\n",
    "    local_dict = {\"pi\": math.pi, \"e\": math.e}\n",
    "    return str(\n",
    "        numexpr.evaluate(\n",
    "            expression.strip(),\n",
    "            global_dict={},  # restrict access to globals\n",
    "            local_dict=local_dict,  # add common mathematical functions\n",
    "        )\n",
    "    )"
   ]
  },
  {
   "cell_type": "code",
   "execution_count": 56,
   "id": "c4ed88c0",
   "metadata": {
    "slideshow": {
     "slide_type": "subslide"
    }
   },
   "outputs": [],
   "source": [
    "tools = [calculator]\n",
    "llm_with_tools = chat_model.bind_tools(tools)"
   ]
  },
  {
   "cell_type": "code",
   "execution_count": 57,
   "id": "e4dc5ab1",
   "metadata": {},
   "outputs": [
    {
     "name": "stdout",
     "output_type": "stream",
     "text": [
      "\n"
     ]
    }
   ],
   "source": [
    "print(llm_with_tools.invoke(task).content)"
   ]
  },
  {
   "cell_type": "code",
   "execution_count": 58,
   "id": "4ca9a4cd",
   "metadata": {
    "scrolled": true,
    "slideshow": {
     "slide_type": "subslide"
    }
   },
   "outputs": [
    {
     "data": {
      "text/plain": [
       "{'model': 'llama3.2',\n",
       " 'created_at': '2025-01-17T15:40:08.803302Z',\n",
       " 'done': True,\n",
       " 'done_reason': 'stop',\n",
       " 'total_duration': 1572837125,\n",
       " 'load_duration': 30826417,\n",
       " 'prompt_eval_count': 246,\n",
       " 'prompt_eval_duration': 134000000,\n",
       " 'eval_count': 44,\n",
       " 'eval_duration': 1406000000,\n",
       " 'message': Message(role='assistant', content='', images=None, tool_calls=[ToolCall(function=Function(name='calculator', arguments={'expression': '3 * 12'})), ToolCall(function=Function(name='calculator', arguments={'expression': '112367 + 26449 / 2462'}))])}"
      ]
     },
     "execution_count": 58,
     "metadata": {},
     "output_type": "execute_result"
    }
   ],
   "source": [
    "result = llm_with_tools.invoke(task)\n",
    "result.response_metadata"
   ]
  },
  {
   "cell_type": "code",
   "execution_count": 59,
   "id": "37d631ff",
   "metadata": {
    "scrolled": true,
    "slideshow": {
     "slide_type": "subslide"
    }
   },
   "outputs": [
    {
     "data": {
      "text/plain": [
       "[{'name': 'calculator',\n",
       "  'args': {'expression': '3 * 12'},\n",
       "  'id': '4a662357-2b46-46bf-b81d-df73f279d61b',\n",
       "  'type': 'tool_call'},\n",
       " {'name': 'calculator',\n",
       "  'args': {'expression': '112367 + 26449 / 2462'},\n",
       "  'id': 'c112dad4-652a-42c9-b818-898d393a93cf',\n",
       "  'type': 'tool_call'}]"
      ]
     },
     "execution_count": 59,
     "metadata": {},
     "output_type": "execute_result"
    }
   ],
   "source": [
    "# easier to read format\n",
    "result.tool_calls"
   ]
  },
  {
   "cell_type": "markdown",
   "id": "ec51cf9f",
   "metadata": {
    "slideshow": {
     "slide_type": "subslide"
    }
   },
   "source": [
    "There are no results! \n",
    "\n",
    "Model figures out *how* to use a tool, but does not *use* it. We need to do this manually."
   ]
  },
  {
   "cell_type": "code",
   "execution_count": 60,
   "id": "66229027",
   "metadata": {
    "slideshow": {
     "slide_type": "subslide"
    }
   },
   "outputs": [],
   "source": [
    "messages = [result]  # start from the first AI message\n",
    "\n",
    "for tool_call in result.tool_calls:\n",
    "    tool_msg = calculator.invoke(tool_call)  # use calculator\n",
    "    messages.append(tool_msg)"
   ]
  },
  {
   "cell_type": "code",
   "execution_count": 61,
   "id": "916af1c6",
   "metadata": {
    "scrolled": true
   },
   "outputs": [
    {
     "data": {
      "text/plain": [
       "[AIMessage(content='', response_metadata={'model': 'llama3.2', 'created_at': '2025-01-17T15:40:08.803302Z', 'done': True, 'done_reason': 'stop', 'total_duration': 1572837125, 'load_duration': 30826417, 'prompt_eval_count': 246, 'prompt_eval_duration': 134000000, 'eval_count': 44, 'eval_duration': 1406000000, 'message': Message(role='assistant', content='', images=None, tool_calls=[ToolCall(function=Function(name='calculator', arguments={'expression': '3 * 12'})), ToolCall(function=Function(name='calculator', arguments={'expression': '112367 + 26449 / 2462'}))])}, id='run-0cd325e5-d1d9-4aa9-bb54-45e22464982c-0', tool_calls=[{'name': 'calculator', 'args': {'expression': '3 * 12'}, 'id': '4a662357-2b46-46bf-b81d-df73f279d61b', 'type': 'tool_call'}, {'name': 'calculator', 'args': {'expression': '112367 + 26449 / 2462'}, 'id': 'c112dad4-652a-42c9-b818-898d393a93cf', 'type': 'tool_call'}], usage_metadata={'input_tokens': 246, 'output_tokens': 44, 'total_tokens': 290}),\n",
       " ToolMessage(content='36', name='calculator', tool_call_id='4a662357-2b46-46bf-b81d-df73f279d61b'),\n",
       " ToolMessage(content='112377.74289195777', name='calculator', tool_call_id='c112dad4-652a-42c9-b818-898d393a93cf')]"
      ]
     },
     "execution_count": 61,
     "metadata": {},
     "output_type": "execute_result"
    }
   ],
   "source": [
    "messages"
   ]
  },
  {
   "cell_type": "markdown",
   "id": "049ce9b2",
   "metadata": {
    "slideshow": {
     "slide_type": "subslide"
    }
   },
   "source": [
    "Use LLM to convert this mess into a nice response."
   ]
  },
  {
   "cell_type": "code",
   "execution_count": 66,
   "id": "1f193d05",
   "metadata": {
    "scrolled": true
   },
   "outputs": [
    {
     "name": "stdout",
     "output_type": "stream",
     "text": [
      "The result of the first expression, 3 * 12, is 36.\n",
      "\n",
      "And the result of the second expression, 112367 + 26449 / 2462, is approximately 112377.74.\n"
     ]
    }
   ],
   "source": [
    "print(llm_with_tools.invoke(messages).content)"
   ]
  },
  {
   "cell_type": "markdown",
   "id": "a30ab393",
   "metadata": {
    "slideshow": {
     "slide_type": "slide"
    }
   },
   "source": [
    "# Conclusions\n",
    "\n",
    "- LLMs are simple tools that write text in more-or-less meaningful way\n",
    "- Combining LLMs with domain knowledge can create significant value\n",
    "- LLM applications are developed in a simple way like with any programming language"
   ]
  },
  {
   "cell_type": "markdown",
   "id": "2abfcc1f",
   "metadata": {
    "slideshow": {
     "slide_type": "slide"
    }
   },
   "source": [
    "<center>\n",
    "<img src=\"./images/00_questions.jpg\" style=\"width:1200px\">\n",
    "</center>"
   ]
  },
  {
   "cell_type": "markdown",
   "id": "71f59734",
   "metadata": {
    "slideshow": {
     "slide_type": "slide"
    }
   },
   "source": [
    "<center><img src=\"images/00_thats_all.jpg\",width=1200></center>"
   ]
  }
 ],
 "metadata": {
  "celltoolbar": "Slideshow",
  "kernelspec": {
   "display_name": "Python 3 (ipykernel)",
   "language": "python",
   "name": "python3"
  },
  "language_info": {
   "codemirror_mode": {
    "name": "ipython",
    "version": 3
   },
   "file_extension": ".py",
   "mimetype": "text/x-python",
   "name": "python",
   "nbconvert_exporter": "python",
   "pygments_lexer": "ipython3",
   "version": "3.8.20"
  }
 },
 "nbformat": 4,
 "nbformat_minor": 5
}
